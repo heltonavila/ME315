{
 "cells": [
  {
   "cell_type": "markdown",
   "metadata": {},
   "source": [
    "**AULA 06 - SQLite**"
   ]
  },
  {
   "cell_type": "code",
   "execution_count": 1,
   "metadata": {},
   "outputs": [],
   "source": [
    "library(RSQLite)"
   ]
  },
  {
   "cell_type": "code",
   "execution_count": 21,
   "metadata": {},
   "outputs": [
    {
     "name": "stderr",
     "output_type": "stream",
     "text": [
      "── \u001b[1mAttaching packages\u001b[22m ─────────────────────────────────────── tidyverse 1.2.1 ──\n",
      "\u001b[32m✔\u001b[39m \u001b[34mggplot2\u001b[39m 3.2.0     \u001b[32m✔\u001b[39m \u001b[34mpurrr  \u001b[39m 0.3.2\n",
      "\u001b[32m✔\u001b[39m \u001b[34mtibble \u001b[39m 2.1.3     \u001b[32m✔\u001b[39m \u001b[34mdplyr  \u001b[39m 0.8.3\n",
      "\u001b[32m✔\u001b[39m \u001b[34mtidyr  \u001b[39m 0.8.3     \u001b[32m✔\u001b[39m \u001b[34mstringr\u001b[39m 1.4.0\n",
      "\u001b[32m✔\u001b[39m \u001b[34mreadr  \u001b[39m 1.3.1     \u001b[32m✔\u001b[39m \u001b[34mforcats\u001b[39m 0.4.0\n",
      "── \u001b[1mConflicts\u001b[22m ────────────────────────────────────────── tidyverse_conflicts() ──\n",
      "\u001b[31m✖\u001b[39m \u001b[34mdplyr\u001b[39m::\u001b[32mfilter()\u001b[39m   masks \u001b[34mstats\u001b[39m::filter()\n",
      "\u001b[31m✖\u001b[39m \u001b[34mdplyr\u001b[39m::\u001b[32mident()\u001b[39m    masks \u001b[34mdbplyr\u001b[39m::ident()\n",
      "\u001b[31m✖\u001b[39m \u001b[34mdplyr\u001b[39m::\u001b[32mlag()\u001b[39m      masks \u001b[34mstats\u001b[39m::lag()\n",
      "\u001b[31m✖\u001b[39m \u001b[34m.GlobalEnv\u001b[39m::\u001b[32msql()\u001b[39m masks \u001b[34mdplyr\u001b[39m::sql(), \u001b[34mdbplyr\u001b[39m::sql()\n"
     ]
    }
   ],
   "source": [
    "library(tidyverse)"
   ]
  },
  {
   "cell_type": "markdown",
   "metadata": {},
   "source": [
    "dbConnect recebe dois argumentos: \n",
    "1) o formato do banco de dados que iremos conectar (driver);\n",
    "2) o caminho para o arquivo que iremos trabalhar "
   ]
  },
  {
   "cell_type": "code",
   "execution_count": 2,
   "metadata": {},
   "outputs": [
    {
     "data": {
      "text/html": [
       "TRUE"
      ],
      "text/latex": [
       "TRUE"
      ],
      "text/markdown": [
       "TRUE"
      ],
      "text/plain": [
       "[1] TRUE"
      ]
     },
     "metadata": {},
     "output_type": "display_data"
    }
   ],
   "source": [
    "fname = file.path(\"ME315\", \"disco\", \"disco.db\")\n",
    "file.exists(fname)"
   ]
  },
  {
   "cell_type": "code",
   "execution_count": 3,
   "metadata": {},
   "outputs": [
    {
     "data": {
      "text/plain": [
       "<SQLiteConnection>\n",
       "  Path: /srv/data/ME315/disco/disco.db\n",
       "  Extensions: TRUE"
      ]
     },
     "metadata": {},
     "output_type": "display_data"
    }
   ],
   "source": [
    "conn = dbConnect(SQLite(), fname)\n",
    "conn"
   ]
  },
  {
   "cell_type": "markdown",
   "metadata": {},
   "source": [
    "*Vendo tabelas e colunas*"
   ]
  },
  {
   "cell_type": "code",
   "execution_count": 5,
   "metadata": {},
   "outputs": [
    {
     "data": {
      "text/html": [
       "<ol class=list-inline>\n",
       "\t<li>'albums'</li>\n",
       "\t<li>'artists'</li>\n",
       "\t<li>'customers'</li>\n",
       "\t<li>'employees'</li>\n",
       "\t<li>'genres'</li>\n",
       "\t<li>'invoice_items'</li>\n",
       "\t<li>'invoices'</li>\n",
       "\t<li>'media_types'</li>\n",
       "\t<li>'playlist_track'</li>\n",
       "\t<li>'playlists'</li>\n",
       "\t<li>'sqlite_sequence'</li>\n",
       "\t<li>'sqlite_stat1'</li>\n",
       "\t<li>'tracks'</li>\n",
       "</ol>\n"
      ],
      "text/latex": [
       "\\begin{enumerate*}\n",
       "\\item 'albums'\n",
       "\\item 'artists'\n",
       "\\item 'customers'\n",
       "\\item 'employees'\n",
       "\\item 'genres'\n",
       "\\item 'invoice\\_items'\n",
       "\\item 'invoices'\n",
       "\\item 'media\\_types'\n",
       "\\item 'playlist\\_track'\n",
       "\\item 'playlists'\n",
       "\\item 'sqlite\\_sequence'\n",
       "\\item 'sqlite\\_stat1'\n",
       "\\item 'tracks'\n",
       "\\end{enumerate*}\n"
      ],
      "text/markdown": [
       "1. 'albums'\n",
       "2. 'artists'\n",
       "3. 'customers'\n",
       "4. 'employees'\n",
       "5. 'genres'\n",
       "6. 'invoice_items'\n",
       "7. 'invoices'\n",
       "8. 'media_types'\n",
       "9. 'playlist_track'\n",
       "10. 'playlists'\n",
       "11. 'sqlite_sequence'\n",
       "12. 'sqlite_stat1'\n",
       "13. 'tracks'\n",
       "\n",
       "\n"
      ],
      "text/plain": [
       " [1] \"albums\"          \"artists\"         \"customers\"       \"employees\"      \n",
       " [5] \"genres\"          \"invoice_items\"   \"invoices\"        \"media_types\"    \n",
       " [9] \"playlist_track\"  \"playlists\"       \"sqlite_sequence\" \"sqlite_stat1\"   \n",
       "[13] \"tracks\"         "
      ]
     },
     "metadata": {},
     "output_type": "display_data"
    },
    {
     "data": {
      "text/html": [
       "<ol class=list-inline>\n",
       "\t<li>'AlbumId'</li>\n",
       "\t<li>'Title'</li>\n",
       "\t<li>'ArtistId'</li>\n",
       "</ol>\n"
      ],
      "text/latex": [
       "\\begin{enumerate*}\n",
       "\\item 'AlbumId'\n",
       "\\item 'Title'\n",
       "\\item 'ArtistId'\n",
       "\\end{enumerate*}\n"
      ],
      "text/markdown": [
       "1. 'AlbumId'\n",
       "2. 'Title'\n",
       "3. 'ArtistId'\n",
       "\n",
       "\n"
      ],
      "text/plain": [
       "[1] \"AlbumId\"  \"Title\"    \"ArtistId\""
      ]
     },
     "metadata": {},
     "output_type": "display_data"
    }
   ],
   "source": [
    "# Tabelas existentes no banco de dados\n",
    "dbListTables(conn)\n",
    "\n",
    "# Colunas na tabela albums\n",
    "dbListFields(conn, 'albums')"
   ]
  },
  {
   "cell_type": "markdown",
   "metadata": {},
   "source": [
    "*Selecionando registros*\n",
    "\n",
    "O comando dbGetQuery consulta o banco de dados, extrai os resultados solicitados. A sintaxe é \n",
    "**dbGetQuery(<conexao>, <chamada SQL>)**."
   ]
  },
  {
   "cell_type": "code",
   "execution_count": 6,
   "metadata": {},
   "outputs": [
    {
     "data": {
      "text/html": [
       "<table>\n",
       "<caption>A data.frame: 6 × 3</caption>\n",
       "<thead>\n",
       "\t<tr><th scope=col>AlbumId</th><th scope=col>Title</th><th scope=col>ArtistId</th></tr>\n",
       "\t<tr><th scope=col>&lt;int&gt;</th><th scope=col>&lt;chr&gt;</th><th scope=col>&lt;int&gt;</th></tr>\n",
       "</thead>\n",
       "<tbody>\n",
       "\t<tr><td>1</td><td>For Those About To Rock We Salute You</td><td>1</td></tr>\n",
       "\t<tr><td>2</td><td>Balls to the Wall                    </td><td>2</td></tr>\n",
       "\t<tr><td>3</td><td>Restless and Wild                    </td><td>2</td></tr>\n",
       "\t<tr><td>4</td><td>Let There Be Rock                    </td><td>1</td></tr>\n",
       "\t<tr><td>5</td><td>Big Ones                             </td><td>3</td></tr>\n",
       "\t<tr><td>6</td><td>Jagged Little Pill                   </td><td>4</td></tr>\n",
       "</tbody>\n",
       "</table>\n"
      ],
      "text/latex": [
       "A data.frame: 6 × 3\n",
       "\\begin{tabular}{r|lll}\n",
       " AlbumId & Title & ArtistId\\\\\n",
       " <int> & <chr> & <int>\\\\\n",
       "\\hline\n",
       "\t 1 & For Those About To Rock We Salute You & 1\\\\\n",
       "\t 2 & Balls to the Wall                     & 2\\\\\n",
       "\t 3 & Restless and Wild                     & 2\\\\\n",
       "\t 4 & Let There Be Rock                     & 1\\\\\n",
       "\t 5 & Big Ones                              & 3\\\\\n",
       "\t 6 & Jagged Little Pill                    & 4\\\\\n",
       "\\end{tabular}\n"
      ],
      "text/markdown": [
       "\n",
       "A data.frame: 6 × 3\n",
       "\n",
       "| AlbumId &lt;int&gt; | Title &lt;chr&gt; | ArtistId &lt;int&gt; |\n",
       "|---|---|---|\n",
       "| 1 | For Those About To Rock We Salute You | 1 |\n",
       "| 2 | Balls to the Wall                     | 2 |\n",
       "| 3 | Restless and Wild                     | 2 |\n",
       "| 4 | Let There Be Rock                     | 1 |\n",
       "| 5 | Big Ones                              | 3 |\n",
       "| 6 | Jagged Little Pill                    | 4 |\n",
       "\n"
      ],
      "text/plain": [
       "  AlbumId Title                                 ArtistId\n",
       "1 1       For Those About To Rock We Salute You 1       \n",
       "2 2       Balls to the Wall                     2       \n",
       "3 3       Restless and Wild                     2       \n",
       "4 4       Let There Be Rock                     1       \n",
       "5 5       Big Ones                              3       \n",
       "6 6       Jagged Little Pill                    4       "
      ]
     },
     "metadata": {},
     "output_type": "display_data"
    }
   ],
   "source": [
    "# Extraia da tabela albums todas as colunas e todas as linhas e armazene-os em um objeto chamado album_db\n",
    "\n",
    "album_db = dbGetQuery(conn, 'SELECT * FROM albums')\n",
    "head(album_db)"
   ]
  },
  {
   "cell_type": "markdown",
   "metadata": {},
   "source": [
    "*Comandos para seleção*\n",
    "\n",
    "O comando SELECT é o comando mais utilizado em SQL, e pode ser combinado com uma série de argumentos:\n",
    "\n",
    "**ORDER BY:** ordernar o resultado;\n",
    "\n",
    "**DISTINCT:** pesquisar por linhas únicas;\n",
    "\n",
    "**WHERE:** filtrar linhas;\n",
    "\n",
    "**LIMIT:** restringir o número de linhas do resultado;\n",
    "\n",
    "**INNER JOIN/LEFT JOIN:** consultar múltiplas tabelas;\n",
    "\n",
    "**GROUP BY:** agrupar e aplicar funções para agregação nos grupos;\n",
    "\n",
    "**HAVING:** filtrar em grupos;"
   ]
  },
  {
   "cell_type": "code",
   "execution_count": 7,
   "metadata": {},
   "outputs": [
    {
     "data": {
      "text/html": [
       "<table>\n",
       "<caption>A data.frame: 6 × 2</caption>\n",
       "<thead>\n",
       "\t<tr><th scope=col>TrackId</th><th scope=col>Name</th></tr>\n",
       "\t<tr><th scope=col>&lt;int&gt;</th><th scope=col>&lt;chr&gt;</th></tr>\n",
       "</thead>\n",
       "<tbody>\n",
       "\t<tr><td>3027</td><td>\"40\"                                                      </td></tr>\n",
       "\t<tr><td>2918</td><td>\"?\"                                                       </td></tr>\n",
       "\t<tr><td>3412</td><td>\"Eine Kleine Nachtmusik\" Serenade In G, K. 525: I. Allegro</td></tr>\n",
       "\t<tr><td> 109</td><td>#1 Zero                                                   </td></tr>\n",
       "\t<tr><td>3254</td><td>#9 Dream                                                  </td></tr>\n",
       "\t<tr><td> 602</td><td>'Round Midnight                                           </td></tr>\n",
       "</tbody>\n",
       "</table>\n"
      ],
      "text/latex": [
       "A data.frame: 6 × 2\n",
       "\\begin{tabular}{r|ll}\n",
       " TrackId & Name\\\\\n",
       " <int> & <chr>\\\\\n",
       "\\hline\n",
       "\t 3027 & \"40\"                                                      \\\\\n",
       "\t 2918 & \"?\"                                                       \\\\\n",
       "\t 3412 & \"Eine Kleine Nachtmusik\" Serenade In G, K. 525: I. Allegro\\\\\n",
       "\t  109 & \\#1 Zero                                                   \\\\\n",
       "\t 3254 & \\#9 Dream                                                  \\\\\n",
       "\t  602 & 'Round Midnight                                           \\\\\n",
       "\\end{tabular}\n"
      ],
      "text/markdown": [
       "\n",
       "A data.frame: 6 × 2\n",
       "\n",
       "| TrackId &lt;int&gt; | Name &lt;chr&gt; |\n",
       "|---|---|\n",
       "| 3027 | \"40\"                                                       |\n",
       "| 2918 | \"?\"                                                        |\n",
       "| 3412 | \"Eine Kleine Nachtmusik\" Serenade In G, K. 525: I. Allegro |\n",
       "|  109 | #1 Zero                                                    |\n",
       "| 3254 | #9 Dream                                                   |\n",
       "|  602 | 'Round Midnight                                            |\n",
       "\n"
      ],
      "text/plain": [
       "  TrackId Name                                                      \n",
       "1 3027    \"40\"                                                      \n",
       "2 2918    \"?\"                                                       \n",
       "3 3412    \"Eine Kleine Nachtmusik\" Serenade In G, K. 525: I. Allegro\n",
       "4  109    #1 Zero                                                   \n",
       "5 3254    #9 Dream                                                  \n",
       "6  602    'Round Midnight                                           "
      ]
     },
     "metadata": {},
     "output_type": "display_data"
    }
   ],
   "source": [
    "# Selecione as colunas trackid, name, composer e unitprice. Ordene o objeto resultante por unitprice.\n",
    "\n",
    "sql = paste('SELECT trackid, name', 'FROM tracks ORDER BY name')\n",
    "res = dbGetQuery(conn, sql)\n",
    "head(res)"
   ]
  },
  {
   "cell_type": "markdown",
   "metadata": {},
   "source": [
    "Como visto no exemplo acima, separamos as colunas que usamos como parâmetro para seleção por vírgulas."
   ]
  },
  {
   "cell_type": "code",
   "execution_count": 8,
   "metadata": {},
   "outputs": [
    {
     "data": {
      "text/html": [
       "<table>\n",
       "<caption>A data.frame: 5 × 3</caption>\n",
       "<thead>\n",
       "\t<tr><th scope=col>Name</th><th scope=col>AlbumId</th><th scope=col>MediaTypeId</th></tr>\n",
       "\t<tr><th scope=col>&lt;chr&gt;</th><th scope=col>&lt;int&gt;</th><th scope=col>&lt;int&gt;</th></tr>\n",
       "</thead>\n",
       "<tbody>\n",
       "\t<tr><td>\"40\"                                                      </td><td>239</td><td>1</td></tr>\n",
       "\t<tr><td>\"Eine Kleine Nachtmusik\" Serenade In G, K. 525: I. Allegro</td><td>281</td><td>2</td></tr>\n",
       "\t<tr><td>#1 Zero                                                   </td><td> 11</td><td>1</td></tr>\n",
       "\t<tr><td>#9 Dream                                                  </td><td>255</td><td>2</td></tr>\n",
       "\t<tr><td>'Round Midnight                                           </td><td> 48</td><td>1</td></tr>\n",
       "</tbody>\n",
       "</table>\n"
      ],
      "text/latex": [
       "A data.frame: 5 × 3\n",
       "\\begin{tabular}{r|lll}\n",
       " Name & AlbumId & MediaTypeId\\\\\n",
       " <chr> & <int> & <int>\\\\\n",
       "\\hline\n",
       "\t \"40\"                                                       & 239 & 1\\\\\n",
       "\t \"Eine Kleine Nachtmusik\" Serenade In G, K. 525: I. Allegro & 281 & 2\\\\\n",
       "\t \\#1 Zero                                                    &  11 & 1\\\\\n",
       "\t \\#9 Dream                                                   & 255 & 2\\\\\n",
       "\t 'Round Midnight                                            &  48 & 1\\\\\n",
       "\\end{tabular}\n"
      ],
      "text/markdown": [
       "\n",
       "A data.frame: 5 × 3\n",
       "\n",
       "| Name &lt;chr&gt; | AlbumId &lt;int&gt; | MediaTypeId &lt;int&gt; |\n",
       "|---|---|---|\n",
       "| \"40\"                                                       | 239 | 1 |\n",
       "| \"Eine Kleine Nachtmusik\" Serenade In G, K. 525: I. Allegro | 281 | 2 |\n",
       "| #1 Zero                                                    |  11 | 1 |\n",
       "| #9 Dream                                                   | 255 | 2 |\n",
       "| 'Round Midnight                                            |  48 | 1 |\n",
       "\n"
      ],
      "text/plain": [
       "  Name                                                       AlbumId\n",
       "1 \"40\"                                                       239    \n",
       "2 \"Eine Kleine Nachtmusik\" Serenade In G, K. 525: I. Allegro 281    \n",
       "3 #1 Zero                                                     11    \n",
       "4 #9 Dream                                                   255    \n",
       "5 'Round Midnight                                             48    \n",
       "  MediaTypeId\n",
       "1 1          \n",
       "2 2          \n",
       "3 1          \n",
       "4 2          \n",
       "5 1          "
      ]
     },
     "metadata": {},
     "output_type": "display_data"
    }
   ],
   "source": [
    "# Limitando-se a 5 registros, após ordenação por nome, quais são os nomes, ID de álbum e ID de mídia de músicas com mídias de tipo 1 ou 2?\n",
    "\n",
    "sql = paste('SELECT name, albumid, mediatypeid FROM tracks', 'WHERE mediatypeid IN (1, 2)', 'ORDER BY name LIMIT 5')\n",
    "dbGetQuery(conn, sql)"
   ]
  },
  {
   "cell_type": "code",
   "execution_count": 9,
   "metadata": {},
   "outputs": [
    {
     "data": {
      "text/html": [
       "<table>\n",
       "<caption>A data.frame: 5 × 3</caption>\n",
       "<thead>\n",
       "\t<tr><th scope=col>TrackId</th><th scope=col>Name</th><th scope=col>AlbumId</th></tr>\n",
       "\t<tr><th scope=col>&lt;int&gt;</th><th scope=col>&lt;chr&gt;</th><th scope=col>&lt;int&gt;</th></tr>\n",
       "</thead>\n",
       "<tbody>\n",
       "\t<tr><td>149</td><td>Black Sabbath           </td><td>16</td></tr>\n",
       "\t<tr><td>150</td><td>The Wizard              </td><td>16</td></tr>\n",
       "\t<tr><td>151</td><td>Behind The Wall Of Sleep</td><td>16</td></tr>\n",
       "\t<tr><td>152</td><td>N.I.B.                  </td><td>16</td></tr>\n",
       "\t<tr><td>153</td><td>Evil Woman              </td><td>16</td></tr>\n",
       "</tbody>\n",
       "</table>\n"
      ],
      "text/latex": [
       "A data.frame: 5 × 3\n",
       "\\begin{tabular}{r|lll}\n",
       " TrackId & Name & AlbumId\\\\\n",
       " <int> & <chr> & <int>\\\\\n",
       "\\hline\n",
       "\t 149 & Black Sabbath            & 16\\\\\n",
       "\t 150 & The Wizard               & 16\\\\\n",
       "\t 151 & Behind The Wall Of Sleep & 16\\\\\n",
       "\t 152 & N.I.B.                   & 16\\\\\n",
       "\t 153 & Evil Woman               & 16\\\\\n",
       "\\end{tabular}\n"
      ],
      "text/markdown": [
       "\n",
       "A data.frame: 5 × 3\n",
       "\n",
       "| TrackId &lt;int&gt; | Name &lt;chr&gt; | AlbumId &lt;int&gt; |\n",
       "|---|---|---|\n",
       "| 149 | Black Sabbath            | 16 |\n",
       "| 150 | The Wizard               | 16 |\n",
       "| 151 | Behind The Wall Of Sleep | 16 |\n",
       "| 152 | N.I.B.                   | 16 |\n",
       "| 153 | Evil Woman               | 16 |\n",
       "\n"
      ],
      "text/plain": [
       "  TrackId Name                     AlbumId\n",
       "1 149     Black Sabbath            16     \n",
       "2 150     The Wizard               16     \n",
       "3 151     Behind The Wall Of Sleep 16     \n",
       "4 152     N.I.B.                   16     \n",
       "5 153     Evil Woman               16     "
      ]
     },
     "metadata": {},
     "output_type": "display_data"
    }
   ],
   "source": [
    "# Quais são as músicas e identificadores de faixa e álbum produzidas pelo artista que identificador 12?\n",
    "\n",
    "sql = paste('SELECT trackid, name, albumid FROM tracks', 'WHERE albumid IN', '(SELECT albumid FROM albums WHERE artistid==12)', 'LIMIT 5')\n",
    "dbGetQuery(conn, sql)"
   ]
  },
  {
   "cell_type": "code",
   "execution_count": 10,
   "metadata": {},
   "outputs": [
    {
     "data": {
      "text/html": [
       "<table>\n",
       "<caption>A data.frame: 5 × 2</caption>\n",
       "<thead>\n",
       "\t<tr><th scope=col>TrackId</th><th scope=col>Name</th></tr>\n",
       "\t<tr><th scope=col>&lt;int&gt;</th><th scope=col>&lt;chr&gt;</th></tr>\n",
       "</thead>\n",
       "<tbody>\n",
       "\t<tr><td> 324</td><td>Pererê                 </td></tr>\n",
       "\t<tr><td>1132</td><td>Serenity               </td></tr>\n",
       "\t<tr><td>1452</td><td>Were Do We Go From Here</td></tr>\n",
       "\t<tr><td>1740</td><td>Sereia                 </td></tr>\n",
       "\t<tr><td>2198</td><td>Jeremy                 </td></tr>\n",
       "</tbody>\n",
       "</table>\n"
      ],
      "text/latex": [
       "A data.frame: 5 × 2\n",
       "\\begin{tabular}{r|ll}\n",
       " TrackId & Name\\\\\n",
       " <int> & <chr>\\\\\n",
       "\\hline\n",
       "\t  324 & Pererê                 \\\\\n",
       "\t 1132 & Serenity               \\\\\n",
       "\t 1452 & Were Do We Go From Here\\\\\n",
       "\t 1740 & Sereia                 \\\\\n",
       "\t 2198 & Jeremy                 \\\\\n",
       "\\end{tabular}\n"
      ],
      "text/markdown": [
       "\n",
       "A data.frame: 5 × 2\n",
       "\n",
       "| TrackId &lt;int&gt; | Name &lt;chr&gt; |\n",
       "|---|---|\n",
       "|  324 | Pererê                  |\n",
       "| 1132 | Serenity                |\n",
       "| 1452 | Were Do We Go From Here |\n",
       "| 1740 | Sereia                  |\n",
       "| 2198 | Jeremy                  |\n",
       "\n"
      ],
      "text/plain": [
       "  TrackId Name                   \n",
       "1  324    Pererê                 \n",
       "2 1132    Serenity               \n",
       "3 1452    Were Do We Go From Here\n",
       "4 1740    Sereia                 \n",
       "5 2198    Jeremy                 "
      ]
     },
     "metadata": {},
     "output_type": "display_data"
    }
   ],
   "source": [
    "#Quais são as faixas cujos nomes começam com qualquer caracter seguido de 'ere' e terminam com qualquer expressão?\n",
    "\n",
    "sql = \"SELECT trackid, name FROM tracks WHERE name GLOB '?ere*'\"\n",
    "dbGetQuery(conn, sql)[1:5,]"
   ]
  },
  {
   "cell_type": "markdown",
   "metadata": {},
   "source": [
    "*Funções de Agregação*\n",
    "\n",
    "AVG: *AVG([ALL | DISTINCT] expressao)* calcula a média de todos os valores não-nulos ou dos valores distintos;\n",
    "\n",
    "COUNT: *COUNT([ALL | DISTINCT] expressao)* realiza a contagem de todos registros;\n",
    "\n",
    "MAX, MIN, SUM funcionam de maneira análoga às funções anteriores."
   ]
  },
  {
   "cell_type": "markdown",
   "metadata": {},
   "source": [
    "**AULA 07 - SQLite: inserindo dados + dbplyr**"
   ]
  },
  {
   "cell_type": "code",
   "execution_count": 16,
   "metadata": {},
   "outputs": [],
   "source": [
    "library(dbplyr)"
   ]
  },
  {
   "cell_type": "markdown",
   "metadata": {},
   "source": [
    "*Inserindo uma tabela*\n",
    "\n",
    "A sintaxe para criar uma tabela vazia, no SQLite, é através do comando CREATE TABLE nome (col1 tipo, col2 tipo2, ...)"
   ]
  },
  {
   "cell_type": "code",
   "execution_count": 19,
   "metadata": {},
   "outputs": [
    {
     "ename": "ERROR",
     "evalue": "Error: attempt to write a readonly database\n",
     "output_type": "error",
     "traceback": [
      "Error: attempt to write a readonly database\nTraceback:\n",
      "1. dbExecute(conn, \"CREATE TABLE instruments (AlbumId INTEGER, TrackId INTEGER, ElectricGuitar INTEGER,\\nSinger INTEGER, Trumpet INTEGER)\")",
      "2. dbExecute(conn, \"CREATE TABLE instruments (AlbumId INTEGER, TrackId INTEGER, ElectricGuitar INTEGER,\\nSinger INTEGER, Trumpet INTEGER)\")",
      "3. dbSendStatement(conn, statement, ...)",
      "4. dbSendStatement(conn, statement, ...)",
      "5. dbSendQuery(conn, statement, ...)",
      "6. dbSendQuery(conn, statement, ...)",
      "7. .local(conn, statement, ...)",
      "8. new(\"SQLiteResult\", sql = statement, ptr = result_create(conn@ptr, \n .     statement), conn = conn, bigint = conn@bigint)",
      "9. initialize(value, ...)",
      "10. initialize(value, ...)",
      "11. result_create(conn@ptr, statement)"
     ]
    }
   ],
   "source": [
    "dbExecute(conn, \"CREATE TABLE instruments (AlbumId INTEGER, TrackId INTEGER, ElectricGuitar INTEGER,\n",
    "Singer INTEGER, Trumpet INTEGER)\")"
   ]
  },
  {
   "cell_type": "markdown",
   "metadata": {},
   "source": [
    "*Removendo uma tabela*"
   ]
  },
  {
   "cell_type": "code",
   "execution_count": 24,
   "metadata": {},
   "outputs": [
    {
     "ename": "ERROR",
     "evalue": "Error: no such table: instruments\n",
     "output_type": "error",
     "traceback": [
      "Error: no such table: instruments\nTraceback:\n",
      "1. dbListFields(conn, \"instruments\")",
      "2. dbListFields(conn, \"instruments\")",
      "3. dbSendQuery(conn, paste(\"SELECT * FROM \", dbQuoteIdentifier(conn, \n .     name), \"LIMIT 0\"))",
      "4. dbSendQuery(conn, paste(\"SELECT * FROM \", dbQuoteIdentifier(conn, \n .     name), \"LIMIT 0\"))",
      "5. .local(conn, statement, ...)",
      "6. new(\"SQLiteResult\", sql = statement, ptr = result_create(conn@ptr, \n .     statement), conn = conn, bigint = conn@bigint)",
      "7. initialize(value, ...)",
      "8. initialize(value, ...)",
      "9. result_create(conn@ptr, statement)"
     ]
    }
   ],
   "source": [
    "dbListFields(conn, 'instruments')"
   ]
  },
  {
   "cell_type": "code",
   "execution_count": 14,
   "metadata": {},
   "outputs": [
    {
     "ename": "ERROR",
     "evalue": "Error: no such table: instruments\n",
     "output_type": "error",
     "traceback": [
      "Error: no such table: instruments\nTraceback:\n",
      "1. dbExecute(conn, \"DROP TABLE instruments\")",
      "2. dbExecute(conn, \"DROP TABLE instruments\")",
      "3. dbSendStatement(conn, statement, ...)",
      "4. dbSendStatement(conn, statement, ...)",
      "5. dbSendQuery(conn, statement, ...)",
      "6. dbSendQuery(conn, statement, ...)",
      "7. .local(conn, statement, ...)",
      "8. new(\"SQLiteResult\", sql = statement, ptr = result_create(conn@ptr, \n .     statement), conn = conn, bigint = conn@bigint)",
      "9. initialize(value, ...)",
      "10. initialize(value, ...)",
      "11. result_create(conn@ptr, statement)"
     ]
    }
   ],
   "source": [
    "dbExecute(conn, \"DROP TABLE instruments\")"
   ]
  },
  {
   "cell_type": "markdown",
   "metadata": {},
   "source": [
    "*Incluindo linhas numa tabela*\n",
    "\n",
    "Voltando ao caso de instrumentos, suponha que eu tenha criado a tabela \"instruments\", e quero completá-la com alguma informação. Uma maneira de fazê-lo é usando o comando INSERT INTO tabela VALUES (...)"
   ]
  },
  {
   "cell_type": "code",
   "execution_count": 15,
   "metadata": {},
   "outputs": [
    {
     "ename": "ERROR",
     "evalue": "Error: no such table: instruments\n",
     "output_type": "error",
     "traceback": [
      "Error: no such table: instruments\nTraceback:\n",
      "1. dbExecute(conn, \"INSERT INTO instruments\\nVALUES ('85', '1075' , 0, 1, 0), ('85', '1078' , 0, 1, 0); \")",
      "2. dbExecute(conn, \"INSERT INTO instruments\\nVALUES ('85', '1075' , 0, 1, 0), ('85', '1078' , 0, 1, 0); \")",
      "3. dbSendStatement(conn, statement, ...)",
      "4. dbSendStatement(conn, statement, ...)",
      "5. dbSendQuery(conn, statement, ...)",
      "6. dbSendQuery(conn, statement, ...)",
      "7. .local(conn, statement, ...)",
      "8. new(\"SQLiteResult\", sql = statement, ptr = result_create(conn@ptr, \n .     statement), conn = conn, bigint = conn@bigint)",
      "9. initialize(value, ...)",
      "10. initialize(value, ...)",
      "11. result_create(conn@ptr, statement)"
     ]
    }
   ],
   "source": [
    "dbExecute(conn,\n",
    "          \"INSERT INTO instruments\n",
    "VALUES ('85', '1075' , 0, 1, 0), ('85', '1078' , 0, 1, 0); \")"
   ]
  },
  {
   "cell_type": "markdown",
   "metadata": {},
   "source": [
    "O comando acima adiciona duas linhas com cada valor em sua respectiva coluna."
   ]
  },
  {
   "cell_type": "markdown",
   "metadata": {},
   "source": [
    "*Inserindo uma tabela diretamente*\n",
    "\n",
    "O parâmetro append concatena uma tabela nova a dados existentes. Por exemplo:"
   ]
  },
  {
   "cell_type": "code",
   "execution_count": 27,
   "metadata": {},
   "outputs": [
    {
     "ename": "ERROR",
     "evalue": "Error: attempt to write a readonly database\n",
     "output_type": "error",
     "traceback": [
      "Error: attempt to write a readonly database\nTraceback:\n",
      "1. dbWriteTable(conn, \"mtcars\", theAvgCar, append = TRUE)",
      "2. dbWriteTable(conn, \"mtcars\", theAvgCar, append = TRUE)",
      "3. .local(conn, name, value, ...)",
      "4. dbCreateTable(conn = conn, name = name, fields = fields, temporary = temporary)",
      "5. dbCreateTable(conn = conn, name = name, fields = fields, temporary = temporary)",
      "6. dbExecute(conn, query)",
      "7. dbExecute(conn, query)",
      "8. dbSendStatement(conn, statement, ...)",
      "9. dbSendStatement(conn, statement, ...)",
      "10. dbSendQuery(conn, statement, ...)",
      "11. dbSendQuery(conn, statement, ...)",
      "12. .local(conn, statement, ...)",
      "13. new(\"SQLiteResult\", sql = statement, ptr = result_create(conn@ptr, \n  .     statement), conn = conn, bigint = conn@bigint)",
      "14. initialize(value, ...)",
      "15. initialize(value, ...)",
      "16. result_create(conn@ptr, statement)"
     ]
    }
   ],
   "source": [
    "theAvgCar <- mtcars %>%\n",
    "summarise_all(function(x) round(mean(x), 2))\n",
    "\n",
    "dbWriteTable(conn, \"mtcars\", theAvgCar, append = TRUE)\n",
    "dbGetQuery(conn, \"SELECT * FROM mtcars\") %>% tail(3)"
   ]
  },
  {
   "cell_type": "markdown",
   "metadata": {},
   "source": [
    "**Leitura de SQL em chunks**\n",
    "\n",
    "Em certo sentido, dbGetQuery() é um atalho para dbSendQuery() seguido de dbFetch() (e dbClearResult()). Uma vantagem de usar a sintaxe mais longa é que podemos ler dados em chunks:"
   ]
  },
  {
   "cell_type": "code",
   "execution_count": 28,
   "metadata": {},
   "outputs": [
    {
     "ename": "ERROR",
     "evalue": "Error: no such table: mtcars\n",
     "output_type": "error",
     "traceback": [
      "Error: no such table: mtcars\nTraceback:\n",
      "1. dbSendQuery(conn, \"SELECT * FROM mtcars WHERE cyl = 4\")",
      "2. dbSendQuery(conn, \"SELECT * FROM mtcars WHERE cyl = 4\")",
      "3. .local(conn, statement, ...)",
      "4. new(\"SQLiteResult\", sql = statement, ptr = result_create(conn@ptr, \n .     statement), conn = conn, bigint = conn@bigint)",
      "5. initialize(value, ...)",
      "6. initialize(value, ...)",
      "7. result_create(conn@ptr, statement)"
     ]
    }
   ],
   "source": [
    "res <- dbSendQuery(conn, \"SELECT * FROM mtcars WHERE cyl = 4\")\n",
    "while(!dbHasCompleted(res)){\n",
    "  chunk <- dbFetch(res, n = 5)\n",
    "  print(nrow(chunk))\n",
    "}\n",
    "\n",
    "dbClearResult(res)"
   ]
  },
  {
   "cell_type": "markdown",
   "metadata": {},
   "source": [
    "O exemplo acima só guarda o último chunk, e não é muito eficiente. Pode ser suficiente se estivermos guardando os resultados com dbWriteTable e append = TRUE."
   ]
  },
  {
   "cell_type": "code",
   "execution_count": null,
   "metadata": {},
   "outputs": [],
   "source": [
    "# Exemplo:\n",
    "\n",
    "n <- 1000000\n",
    "f <- file(\"chr1.ld\")\n",
    "open(f)\n",
    "data <- read_table(f, nrow = n, header = TRUE)\n",
    "\n",
    "con_data <- dbConnect(\"SQLite\", dbname = \"R2\")\n",
    "while (nrow(data) == n){\n",
    "  dbWriteTable(con_data, data, name = \"ch1\", append = TRUE, header = TRUE)\n",
    "  data <- read_table(f, nrow = n, header = TRUE)\n",
    "}\n",
    "close(f)\n",
    "if (nrow(data) != 0){\n",
    "  dbWriteTable(con_data, data, name = \"ch1\", append = TRUE)\n",
    "}"
   ]
  },
  {
   "cell_type": "markdown",
   "metadata": {},
   "source": [
    "*Fechando conexões*\n",
    "\n",
    "É importante encerrar suas conexões com dbDisconnect(). Além disso, vou remover a cópia que fiz da database disco.db."
   ]
  },
  {
   "cell_type": "code",
   "execution_count": null,
   "metadata": {},
   "outputs": [],
   "source": [
    "dbDisconnect(db)\n",
    "if(\"discoCopy.db\" %in% list.files(\"../dados/\")){\n",
    "file.remove(\"../dados/discoCopy.db\")\n",
    "}"
   ]
  },
  {
   "cell_type": "code",
   "execution_count": null,
   "metadata": {},
   "outputs": [],
   "source": [
    "*Verbos do dplyr disponíveis*"
   ]
  },
  {
   "cell_type": "code",
   "execution_count": null,
   "metadata": {},
   "outputs": [],
   "source": [
    "meanTracks <- tracks %>%\n",
    "group_by(AlbumId) %>%\n",
    "summarise(AvLen = mean(Milliseconds, na.rm = TRUE), AvCost = mean(UnitPrice, na.rm = TRUE))\n",
    "\n",
    "meanTracks"
   ]
  }
 ],
 "metadata": {
  "kernelspec": {
   "display_name": "R",
   "language": "R",
   "name": "ir"
  },
  "language_info": {
   "codemirror_mode": "r",
   "file_extension": ".r",
   "mimetype": "text/x-r-source",
   "name": "R",
   "pygments_lexer": "r",
   "version": "3.5.2"
  }
 },
 "nbformat": 4,
 "nbformat_minor": 2
}
