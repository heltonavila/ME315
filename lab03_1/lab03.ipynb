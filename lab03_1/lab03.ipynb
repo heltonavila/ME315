{
 "cells": [
  {
   "cell_type": "code",
   "execution_count": 34,
   "metadata": {},
   "outputs": [],
   "source": [
    "library(tidyverse)\n",
    "library(magrittr)\n",
    "library(htmlwidgets)\n",
    "library(IRdisplay)\n",
    "library(leaflet)"
   ]
  },
  {
   "cell_type": "code",
   "execution_count": 24,
   "metadata": {},
   "outputs": [],
   "source": [
    "aeroportos = file.path(path,\"airports.csv\")\n",
    "colsairports = cols_only(IATA_CODE = \"c\", CITY = \"c\", STATE = \"c\", LATITUDE = \"d\", LONGITUDE = \"d\")\n",
    "airports = read_csv(aeroportos, col_types = colsairports)"
   ]
  },
  {
   "cell_type": "code",
   "execution_count": 25,
   "metadata": {
    "collapsed": true
   },
   "outputs": [
    {
     "data": {
      "text/html": [
       "<table>\n",
       "<caption>A tibble: 6 × 5</caption>\n",
       "<thead>\n",
       "\t<tr><th scope=col>IATA_CODE</th><th scope=col>CITY</th><th scope=col>STATE</th><th scope=col>LATITUDE</th><th scope=col>LONGITUDE</th></tr>\n",
       "\t<tr><th scope=col>&lt;chr&gt;</th><th scope=col>&lt;chr&gt;</th><th scope=col>&lt;chr&gt;</th><th scope=col>&lt;dbl&gt;</th><th scope=col>&lt;dbl&gt;</th></tr>\n",
       "</thead>\n",
       "<tbody>\n",
       "\t<tr><td>ABE</td><td>Allentown  </td><td>PA</td><td>40.65236</td><td> -75.44040</td></tr>\n",
       "\t<tr><td>ABI</td><td>Abilene    </td><td>TX</td><td>32.41132</td><td> -99.68190</td></tr>\n",
       "\t<tr><td>ABQ</td><td>Albuquerque</td><td>NM</td><td>35.04022</td><td>-106.60919</td></tr>\n",
       "\t<tr><td>ABR</td><td>Aberdeen   </td><td>SD</td><td>45.44906</td><td> -98.42183</td></tr>\n",
       "\t<tr><td>ABY</td><td>Albany     </td><td>GA</td><td>31.53552</td><td> -84.19447</td></tr>\n",
       "\t<tr><td>ACK</td><td>Nantucket  </td><td>MA</td><td>41.25305</td><td> -70.06018</td></tr>\n",
       "</tbody>\n",
       "</table>\n"
      ],
      "text/latex": [
       "A tibble: 6 × 5\n",
       "\\begin{tabular}{r|lllll}\n",
       " IATA\\_CODE & CITY & STATE & LATITUDE & LONGITUDE\\\\\n",
       " <chr> & <chr> & <chr> & <dbl> & <dbl>\\\\\n",
       "\\hline\n",
       "\t ABE & Allentown   & PA & 40.65236 &  -75.44040\\\\\n",
       "\t ABI & Abilene     & TX & 32.41132 &  -99.68190\\\\\n",
       "\t ABQ & Albuquerque & NM & 35.04022 & -106.60919\\\\\n",
       "\t ABR & Aberdeen    & SD & 45.44906 &  -98.42183\\\\\n",
       "\t ABY & Albany      & GA & 31.53552 &  -84.19447\\\\\n",
       "\t ACK & Nantucket   & MA & 41.25305 &  -70.06018\\\\\n",
       "\\end{tabular}\n"
      ],
      "text/markdown": [
       "\n",
       "A tibble: 6 × 5\n",
       "\n",
       "| IATA_CODE &lt;chr&gt; | CITY &lt;chr&gt; | STATE &lt;chr&gt; | LATITUDE &lt;dbl&gt; | LONGITUDE &lt;dbl&gt; |\n",
       "|---|---|---|---|---|\n",
       "| ABE | Allentown   | PA | 40.65236 |  -75.44040 |\n",
       "| ABI | Abilene     | TX | 32.41132 |  -99.68190 |\n",
       "| ABQ | Albuquerque | NM | 35.04022 | -106.60919 |\n",
       "| ABR | Aberdeen    | SD | 45.44906 |  -98.42183 |\n",
       "| ABY | Albany      | GA | 31.53552 |  -84.19447 |\n",
       "| ACK | Nantucket   | MA | 41.25305 |  -70.06018 |\n",
       "\n"
      ],
      "text/plain": [
       "  IATA_CODE CITY        STATE LATITUDE LONGITUDE \n",
       "1 ABE       Allentown   PA    40.65236  -75.44040\n",
       "2 ABI       Abilene     TX    32.41132  -99.68190\n",
       "3 ABQ       Albuquerque NM    35.04022 -106.60919\n",
       "4 ABR       Aberdeen    SD    45.44906  -98.42183\n",
       "5 ABY       Albany      GA    31.53552  -84.19447\n",
       "6 ACK       Nantucket   MA    41.25305  -70.06018"
      ]
     },
     "metadata": {},
     "output_type": "display_data"
    }
   ],
   "source": [
    "head(airports)"
   ]
  },
  {
   "cell_type": "code",
   "execution_count": 26,
   "metadata": {},
   "outputs": [],
   "source": [
    "voos = file.path(path, \"flights_small.csv.zip\")\n",
    "colsflights = cols_only(DESTINATION_AIRPORT = \"c\", ARRIVAL_DELAY = \"i\")\n",
    "getStats = function(input, pos){\n",
    "    input  %>% filter(!startsWith(DESTINATION_AIRPORT, \"1\")) %>% \n",
    "    drop_na() %>%\n",
    "    group_by(DESTINATION_AIRPORT) %>% \n",
    "    summarise(Sx = sum(ARRIVAL_DELAY), n = n())    \n",
    "}\n",
    "## No lugar ddrop_na pode usar filter(!is.na(DESTINATION_AIRPORT), !is.na(ARRIVAL_DELAY)) ou na.omit)()\n",
    "\n",
    "flights = read_csv_chunked(voos, chunk_size = 1000, callback = DataFrameCallback$new(getStats), col_types = colsflights)"
   ]
  },
  {
   "cell_type": "code",
   "execution_count": 27,
   "metadata": {},
   "outputs": [],
   "source": [
    "##x = x %>% filter(bla) é igual a \n",
    "##x =  %<>% filter(bla)\n",
    "\n",
    "flights  %<>% group_by(DESTINATION_AIRPORT) %>% summarise(ATRASO_MEDIO = sum(Sx)/sum(n))"
   ]
  },
  {
   "cell_type": "code",
   "execution_count": 28,
   "metadata": {
    "collapsed": true
   },
   "outputs": [
    {
     "data": {
      "text/html": [
       "<table>\n",
       "<caption>A tibble: 6 × 2</caption>\n",
       "<thead>\n",
       "\t<tr><th scope=col>DESTINATION_AIRPORT</th><th scope=col>ATRASO_MEDIO</th></tr>\n",
       "\t<tr><th scope=col>&lt;chr&gt;</th><th scope=col>&lt;dbl&gt;</th></tr>\n",
       "</thead>\n",
       "<tbody>\n",
       "\t<tr><td>ABE</td><td> -5.250000</td></tr>\n",
       "\t<tr><td>ABI</td><td> 52.000000</td></tr>\n",
       "\t<tr><td>ABQ</td><td>  9.115385</td></tr>\n",
       "\t<tr><td>ABR</td><td>-11.000000</td></tr>\n",
       "\t<tr><td>ABY</td><td> -3.500000</td></tr>\n",
       "\t<tr><td>ACT</td><td> 79.500000</td></tr>\n",
       "</tbody>\n",
       "</table>\n"
      ],
      "text/latex": [
       "A tibble: 6 × 2\n",
       "\\begin{tabular}{r|ll}\n",
       " DESTINATION\\_AIRPORT & ATRASO\\_MEDIO\\\\\n",
       " <chr> & <dbl>\\\\\n",
       "\\hline\n",
       "\t ABE &  -5.250000\\\\\n",
       "\t ABI &  52.000000\\\\\n",
       "\t ABQ &   9.115385\\\\\n",
       "\t ABR & -11.000000\\\\\n",
       "\t ABY &  -3.500000\\\\\n",
       "\t ACT &  79.500000\\\\\n",
       "\\end{tabular}\n"
      ],
      "text/markdown": [
       "\n",
       "A tibble: 6 × 2\n",
       "\n",
       "| DESTINATION_AIRPORT &lt;chr&gt; | ATRASO_MEDIO &lt;dbl&gt; |\n",
       "|---|---|\n",
       "| ABE |  -5.250000 |\n",
       "| ABI |  52.000000 |\n",
       "| ABQ |   9.115385 |\n",
       "| ABR | -11.000000 |\n",
       "| ABY |  -3.500000 |\n",
       "| ACT |  79.500000 |\n",
       "\n"
      ],
      "text/plain": [
       "  DESTINATION_AIRPORT ATRASO_MEDIO\n",
       "1 ABE                  -5.250000  \n",
       "2 ABI                  52.000000  \n",
       "3 ABQ                   9.115385  \n",
       "4 ABR                 -11.000000  \n",
       "5 ABY                  -3.500000  \n",
       "6 ACT                  79.500000  "
      ]
     },
     "metadata": {},
     "output_type": "display_data"
    }
   ],
   "source": [
    "flights %>% head"
   ]
  },
  {
   "cell_type": "code",
   "execution_count": 30,
   "metadata": {},
   "outputs": [],
   "source": [
    "flights %<>% left_join(airports, by = c(\"DESTINATION_AIRPORT\" = \"IATA_CODE\"))"
   ]
  },
  {
   "cell_type": "code",
   "execution_count": 31,
   "metadata": {
    "collapsed": true
   },
   "outputs": [
    {
     "data": {
      "text/html": [
       "<table>\n",
       "<caption>A tibble: 6 × 6</caption>\n",
       "<thead>\n",
       "\t<tr><th scope=col>DESTINATION_AIRPORT</th><th scope=col>ATRASO_MEDIO</th><th scope=col>CITY</th><th scope=col>STATE</th><th scope=col>LATITUDE</th><th scope=col>LONGITUDE</th></tr>\n",
       "\t<tr><th scope=col>&lt;chr&gt;</th><th scope=col>&lt;dbl&gt;</th><th scope=col>&lt;chr&gt;</th><th scope=col>&lt;chr&gt;</th><th scope=col>&lt;dbl&gt;</th><th scope=col>&lt;dbl&gt;</th></tr>\n",
       "</thead>\n",
       "<tbody>\n",
       "\t<tr><td>ABE</td><td> -5.250000</td><td>Allentown  </td><td>PA</td><td>40.65236</td><td> -75.44040</td></tr>\n",
       "\t<tr><td>ABI</td><td> 52.000000</td><td>Abilene    </td><td>TX</td><td>32.41132</td><td> -99.68190</td></tr>\n",
       "\t<tr><td>ABQ</td><td>  9.115385</td><td>Albuquerque</td><td>NM</td><td>35.04022</td><td>-106.60919</td></tr>\n",
       "\t<tr><td>ABR</td><td>-11.000000</td><td>Aberdeen   </td><td>SD</td><td>45.44906</td><td> -98.42183</td></tr>\n",
       "\t<tr><td>ABY</td><td> -3.500000</td><td>Albany     </td><td>GA</td><td>31.53552</td><td> -84.19447</td></tr>\n",
       "\t<tr><td>ACT</td><td> 79.500000</td><td>Waco       </td><td>TX</td><td>31.61129</td><td> -97.23052</td></tr>\n",
       "</tbody>\n",
       "</table>\n"
      ],
      "text/latex": [
       "A tibble: 6 × 6\n",
       "\\begin{tabular}{r|llllll}\n",
       " DESTINATION\\_AIRPORT & ATRASO\\_MEDIO & CITY & STATE & LATITUDE & LONGITUDE\\\\\n",
       " <chr> & <dbl> & <chr> & <chr> & <dbl> & <dbl>\\\\\n",
       "\\hline\n",
       "\t ABE &  -5.250000 & Allentown   & PA & 40.65236 &  -75.44040\\\\\n",
       "\t ABI &  52.000000 & Abilene     & TX & 32.41132 &  -99.68190\\\\\n",
       "\t ABQ &   9.115385 & Albuquerque & NM & 35.04022 & -106.60919\\\\\n",
       "\t ABR & -11.000000 & Aberdeen    & SD & 45.44906 &  -98.42183\\\\\n",
       "\t ABY &  -3.500000 & Albany      & GA & 31.53552 &  -84.19447\\\\\n",
       "\t ACT &  79.500000 & Waco        & TX & 31.61129 &  -97.23052\\\\\n",
       "\\end{tabular}\n"
      ],
      "text/markdown": [
       "\n",
       "A tibble: 6 × 6\n",
       "\n",
       "| DESTINATION_AIRPORT &lt;chr&gt; | ATRASO_MEDIO &lt;dbl&gt; | CITY &lt;chr&gt; | STATE &lt;chr&gt; | LATITUDE &lt;dbl&gt; | LONGITUDE &lt;dbl&gt; |\n",
       "|---|---|---|---|---|---|\n",
       "| ABE |  -5.250000 | Allentown   | PA | 40.65236 |  -75.44040 |\n",
       "| ABI |  52.000000 | Abilene     | TX | 32.41132 |  -99.68190 |\n",
       "| ABQ |   9.115385 | Albuquerque | NM | 35.04022 | -106.60919 |\n",
       "| ABR | -11.000000 | Aberdeen    | SD | 45.44906 |  -98.42183 |\n",
       "| ABY |  -3.500000 | Albany      | GA | 31.53552 |  -84.19447 |\n",
       "| ACT |  79.500000 | Waco        | TX | 31.61129 |  -97.23052 |\n",
       "\n"
      ],
      "text/plain": [
       "  DESTINATION_AIRPORT ATRASO_MEDIO CITY        STATE LATITUDE LONGITUDE \n",
       "1 ABE                  -5.250000   Allentown   PA    40.65236  -75.44040\n",
       "2 ABI                  52.000000   Abilene     TX    32.41132  -99.68190\n",
       "3 ABQ                   9.115385   Albuquerque NM    35.04022 -106.60919\n",
       "4 ABR                 -11.000000   Aberdeen    SD    45.44906  -98.42183\n",
       "5 ABY                  -3.500000   Albany      GA    31.53552  -84.19447\n",
       "6 ACT                  79.500000   Waco        TX    31.61129  -97.23052"
      ]
     },
     "metadata": {},
     "output_type": "display_data"
    }
   ],
   "source": [
    "flights %>% head"
   ]
  },
  {
   "cell_type": "code",
   "execution_count": 2,
   "metadata": {
    "scrolled": true
   },
   "outputs": [
    {
     "ename": "ERROR",
     "evalue": "Error in flights %>% group_by(STATE) %>% count() %>% arrange(desc(n)): could not find function \"%>%\"\n",
     "output_type": "error",
     "traceback": [
      "Error in flights %>% group_by(STATE) %>% count() %>% arrange(desc(n)): could not find function \"%>%\"\nTraceback:\n"
     ]
    }
   ],
   "source": [
    "(estados = flights %>% group_by(STATE) %>% count() %>% arrange(desc(n)))"
   ]
  },
  {
   "cell_type": "code",
   "execution_count": 54,
   "metadata": {},
   "outputs": [
    {
     "name": "stderr",
     "output_type": "stream",
     "text": [
      "Warning message in validateCoords(lng, lat, funcName):\n",
      "“Data contains 2 rows with either missing or invalid lat/lon values and will be ignored”"
     ]
    },
    {
     "data": {
      "text/html": [
       "<iframe src=\"demo.html\" width=\"600\" height=\"600\"></iframe>"
      ]
     },
     "metadata": {},
     "output_type": "display_data"
    }
   ],
   "source": [
    "this = leaflet(flights) %>%\n",
    "    addTiles() %>%\n",
    "        addCircleMarkers(~LONGITUDE, ~LATITUDE,\n",
    "                        radius = ~ATRASO_MEDIO,\n",
    "                        fillOpacity = 0.5,\n",
    "                        clusterOptions = markerClusterOptions(),\n",
    "                        label = ~as.character(DESTINATION_AIRPORT),\n",
    "                        popup = ~as.character(paste(\"O atraso é de\",round(ATRASO_MEDIO,0),\"minutos\")))\n",
    "saveWidget(this, 'demo.html', selfcontained = FALSE)\n",
    "display_html('<iframe src=\"demo.html\" width=\"600\" height=\"600\"></iframe>')"
   ]
  }
 ],
 "metadata": {
  "kernelspec": {
   "display_name": "R",
   "language": "R",
   "name": "ir"
  },
  "language_info": {
   "codemirror_mode": "r",
   "file_extension": ".r",
   "mimetype": "text/x-r-source",
   "name": "R",
   "pygments_lexer": "r",
   "version": "3.5.2"
  }
 },
 "nbformat": 4,
 "nbformat_minor": 2
}
