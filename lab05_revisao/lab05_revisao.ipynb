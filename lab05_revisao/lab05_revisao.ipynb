{
 "cells": [
  {
   "cell_type": "code",
   "execution_count": 1,
   "metadata": {},
   "outputs": [
    {
     "name": "stderr",
     "output_type": "stream",
     "text": [
      "── \u001b[1mAttaching packages\u001b[22m ─────────────────────────────────────── tidyverse 1.2.1 ──\n",
      "\u001b[32m✔\u001b[39m \u001b[34mggplot2\u001b[39m 3.2.0     \u001b[32m✔\u001b[39m \u001b[34mpurrr  \u001b[39m 0.3.2\n",
      "\u001b[32m✔\u001b[39m \u001b[34mtibble \u001b[39m 2.1.3     \u001b[32m✔\u001b[39m \u001b[34mdplyr  \u001b[39m 0.8.3\n",
      "\u001b[32m✔\u001b[39m \u001b[34mtidyr  \u001b[39m 0.8.3     \u001b[32m✔\u001b[39m \u001b[34mstringr\u001b[39m 1.4.0\n",
      "\u001b[32m✔\u001b[39m \u001b[34mreadr  \u001b[39m 1.3.1     \u001b[32m✔\u001b[39m \u001b[34mforcats\u001b[39m 0.4.0\n",
      "── \u001b[1mConflicts\u001b[22m ────────────────────────────────────────── tidyverse_conflicts() ──\n",
      "\u001b[31m✖\u001b[39m \u001b[34mdplyr\u001b[39m::\u001b[32mfilter()\u001b[39m masks \u001b[34mstats\u001b[39m::filter()\n",
      "\u001b[31m✖\u001b[39m \u001b[34mdplyr\u001b[39m::\u001b[32mlag()\u001b[39m    masks \u001b[34mstats\u001b[39m::lag()\n"
     ]
    },
    {
     "data": {
      "text/html": [
       "TRUE"
      ],
      "text/latex": [
       "TRUE"
      ],
      "text/markdown": [
       "TRUE"
      ],
      "text/plain": [
       "[1] TRUE"
      ]
     },
     "metadata": {},
     "output_type": "display_data"
    }
   ],
   "source": [
    "library(tidyverse)\n",
    "fname = file.path(\"ME315\", \"voos\", \"flights_small.csv.zip\")\n",
    "file.exists(fname)"
   ]
  },
  {
   "cell_type": "code",
   "execution_count": 2,
   "metadata": {},
   "outputs": [
    {
     "name": "stderr",
     "output_type": "stream",
     "text": [
      "Parsed with column specification:\n",
      "cols(\n",
      "  .default = col_double(),\n",
      "  AIRLINE = \u001b[31mcol_character()\u001b[39m,\n",
      "  TAIL_NUMBER = \u001b[31mcol_character()\u001b[39m,\n",
      "  ORIGIN_AIRPORT = \u001b[31mcol_character()\u001b[39m,\n",
      "  DESTINATION_AIRPORT = \u001b[31mcol_character()\u001b[39m,\n",
      "  SCHEDULED_DEPARTURE = \u001b[31mcol_character()\u001b[39m,\n",
      "  DEPARTURE_TIME = \u001b[31mcol_character()\u001b[39m,\n",
      "  WHEELS_OFF = \u001b[31mcol_character()\u001b[39m,\n",
      "  WHEELS_ON = \u001b[31mcol_character()\u001b[39m,\n",
      "  SCHEDULED_ARRIVAL = \u001b[31mcol_character()\u001b[39m,\n",
      "  ARRIVAL_TIME = \u001b[31mcol_character()\u001b[39m,\n",
      "  CANCELLATION_REASON = \u001b[31mcol_character()\u001b[39m\n",
      ")\n",
      "See spec(...) for full column specifications.\n"
     ]
    },
    {
     "data": {
      "text/html": [
       "<table>\n",
       "<caption>A tibble: 6 × 31</caption>\n",
       "<thead>\n",
       "\t<tr><th scope=col>YEAR</th><th scope=col>MONTH</th><th scope=col>DAY</th><th scope=col>DAY_OF_WEEK</th><th scope=col>AIRLINE</th><th scope=col>FLIGHT_NUMBER</th><th scope=col>TAIL_NUMBER</th><th scope=col>ORIGIN_AIRPORT</th><th scope=col>DESTINATION_AIRPORT</th><th scope=col>SCHEDULED_DEPARTURE</th><th scope=col>⋯</th><th scope=col>ARRIVAL_TIME</th><th scope=col>ARRIVAL_DELAY</th><th scope=col>DIVERTED</th><th scope=col>CANCELLED</th><th scope=col>CANCELLATION_REASON</th><th scope=col>AIR_SYSTEM_DELAY</th><th scope=col>SECURITY_DELAY</th><th scope=col>AIRLINE_DELAY</th><th scope=col>LATE_AIRCRAFT_DELAY</th><th scope=col>WEATHER_DELAY</th></tr>\n",
       "\t<tr><th scope=col>&lt;dbl&gt;</th><th scope=col>&lt;dbl&gt;</th><th scope=col>&lt;dbl&gt;</th><th scope=col>&lt;dbl&gt;</th><th scope=col>&lt;chr&gt;</th><th scope=col>&lt;dbl&gt;</th><th scope=col>&lt;chr&gt;</th><th scope=col>&lt;chr&gt;</th><th scope=col>&lt;chr&gt;</th><th scope=col>&lt;chr&gt;</th><th scope=col>⋯</th><th scope=col>&lt;chr&gt;</th><th scope=col>&lt;dbl&gt;</th><th scope=col>&lt;dbl&gt;</th><th scope=col>&lt;dbl&gt;</th><th scope=col>&lt;chr&gt;</th><th scope=col>&lt;dbl&gt;</th><th scope=col>&lt;dbl&gt;</th><th scope=col>&lt;dbl&gt;</th><th scope=col>&lt;dbl&gt;</th><th scope=col>&lt;dbl&gt;</th></tr>\n",
       "</thead>\n",
       "<tbody>\n",
       "\t<tr><td>2015</td><td>7</td><td> 8</td><td>3</td><td>WN</td><td>2414</td><td>N8634A</td><td>DEN</td><td>MCO</td><td>0650</td><td>⋯</td><td>1225</td><td>  0</td><td>0</td><td>0</td><td>NA</td><td>NA</td><td>NA</td><td>NA</td><td>NA</td><td>NA</td></tr>\n",
       "\t<tr><td>2015</td><td>3</td><td>11</td><td>3</td><td>US</td><td>1850</td><td>N187US</td><td>PHL</td><td>MCO</td><td>0650</td><td>⋯</td><td>0913</td><td>-17</td><td>0</td><td>0</td><td>NA</td><td>NA</td><td>NA</td><td>NA</td><td>NA</td><td>NA</td></tr>\n",
       "\t<tr><td>2015</td><td>8</td><td> 4</td><td>2</td><td>MQ</td><td>3429</td><td>N663MQ</td><td>CMI</td><td>ORD</td><td>0710</td><td>⋯</td><td>0752</td><td>-31</td><td>0</td><td>0</td><td>NA</td><td>NA</td><td>NA</td><td>NA</td><td>NA</td><td>NA</td></tr>\n",
       "\t<tr><td>2015</td><td>6</td><td> 4</td><td>4</td><td>AS</td><td> 658</td><td>N409AS</td><td>SEA</td><td>DFW</td><td>0645</td><td>⋯</td><td>1225</td><td>-15</td><td>0</td><td>0</td><td>NA</td><td>NA</td><td>NA</td><td>NA</td><td>NA</td><td>NA</td></tr>\n",
       "\t<tr><td>2015</td><td>4</td><td> 7</td><td>2</td><td>DL</td><td>1061</td><td>N3758Y</td><td>LAX</td><td>MCO</td><td>1025</td><td>⋯</td><td>1821</td><td> 18</td><td>0</td><td>0</td><td>NA</td><td> 0</td><td> 0</td><td> 2</td><td>16</td><td> 0</td></tr>\n",
       "\t<tr><td>2015</td><td>7</td><td>17</td><td>5</td><td>DL</td><td> 913</td><td>N317US</td><td>TVC</td><td>MSP</td><td>1627</td><td>⋯</td><td>1641</td><td> -8</td><td>0</td><td>0</td><td>NA</td><td>NA</td><td>NA</td><td>NA</td><td>NA</td><td>NA</td></tr>\n",
       "</tbody>\n",
       "</table>\n"
      ],
      "text/latex": [
       "A tibble: 6 × 31\n",
       "\\begin{tabular}{r|lllllllllllllllllllllllllllllll}\n",
       " YEAR & MONTH & DAY & DAY\\_OF\\_WEEK & AIRLINE & FLIGHT\\_NUMBER & TAIL\\_NUMBER & ORIGIN\\_AIRPORT & DESTINATION\\_AIRPORT & SCHEDULED\\_DEPARTURE & DEPARTURE\\_TIME & DEPARTURE\\_DELAY & TAXI\\_OUT & WHEELS\\_OFF & SCHEDULED\\_TIME & ELAPSED\\_TIME & AIR\\_TIME & DISTANCE & WHEELS\\_ON & TAXI\\_IN & SCHEDULED\\_ARRIVAL & ARRIVAL\\_TIME & ARRIVAL\\_DELAY & DIVERTED & CANCELLED & CANCELLATION\\_REASON & AIR\\_SYSTEM\\_DELAY & SECURITY\\_DELAY & AIRLINE\\_DELAY & LATE\\_AIRCRAFT\\_DELAY & WEATHER\\_DELAY\\\\\n",
       " <dbl> & <dbl> & <dbl> & <dbl> & <chr> & <dbl> & <chr> & <chr> & <chr> & <chr> & <chr> & <dbl> & <dbl> & <chr> & <dbl> & <dbl> & <dbl> & <dbl> & <chr> & <dbl> & <chr> & <chr> & <dbl> & <dbl> & <dbl> & <chr> & <dbl> & <dbl> & <dbl> & <dbl> & <dbl>\\\\\n",
       "\\hline\n",
       "\t 2015 & 7 &  8 & 3 & WN & 2414 & N8634A & DEN & MCO & 0650 & 0655 &  5 & 10 & 0705 & 215 & 210 & 192 & 1546 & 1217 &  8 & 1225 & 1225 &   0 & 0 & 0 & NA & NA & NA & NA & NA & NA\\\\\n",
       "\t 2015 & 3 & 11 & 3 & US & 1850 & N187US & PHL & MCO & 0650 & 0647 & -3 & 17 & 0704 & 160 & 146 & 124 &  861 & 0908 &  5 & 0930 & 0913 & -17 & 0 & 0 & NA & NA & NA & NA & NA & NA\\\\\n",
       "\t 2015 & 8 &  4 & 2 & MQ & 3429 & N663MQ & CMI & ORD & 0710 & 0701 & -9 &  7 & 0708 &  73 &  51 &  34 &  135 & 0742 & 10 & 0823 & 0752 & -31 & 0 & 0 & NA & NA & NA & NA & NA & NA\\\\\n",
       "\t 2015 & 6 &  4 & 4 & AS &  658 & N409AS & SEA & DFW & 0645 & 0643 & -2 & 11 & 0654 & 235 & 222 & 203 & 1660 & 1217 &  8 & 1240 & 1225 & -15 & 0 & 0 & NA & NA & NA & NA & NA & NA\\\\\n",
       "\t 2015 & 4 &  7 & 2 & DL & 1061 & N3758Y & LAX & MCO & 1025 & 1045 & 20 & 13 & 1058 & 278 & 276 & 246 & 2218 & 1804 & 17 & 1803 & 1821 &  18 & 0 & 0 & NA &  0 &  0 &  2 & 16 &  0\\\\\n",
       "\t 2015 & 7 & 17 & 5 & DL &  913 & N317US & TVC & MSP & 1627 & 1621 & -6 & 23 & 1644 &  82 &  80 &  53 &  376 & 1637 &  4 & 1649 & 1641 &  -8 & 0 & 0 & NA & NA & NA & NA & NA & NA\\\\\n",
       "\\end{tabular}\n"
      ],
      "text/markdown": [
       "\n",
       "A tibble: 6 × 31\n",
       "\n",
       "| YEAR &lt;dbl&gt; | MONTH &lt;dbl&gt; | DAY &lt;dbl&gt; | DAY_OF_WEEK &lt;dbl&gt; | AIRLINE &lt;chr&gt; | FLIGHT_NUMBER &lt;dbl&gt; | TAIL_NUMBER &lt;chr&gt; | ORIGIN_AIRPORT &lt;chr&gt; | DESTINATION_AIRPORT &lt;chr&gt; | SCHEDULED_DEPARTURE &lt;chr&gt; | ⋯ ⋯ | ARRIVAL_TIME &lt;chr&gt; | ARRIVAL_DELAY &lt;dbl&gt; | DIVERTED &lt;dbl&gt; | CANCELLED &lt;dbl&gt; | CANCELLATION_REASON &lt;chr&gt; | AIR_SYSTEM_DELAY &lt;dbl&gt; | SECURITY_DELAY &lt;dbl&gt; | AIRLINE_DELAY &lt;dbl&gt; | LATE_AIRCRAFT_DELAY &lt;dbl&gt; | WEATHER_DELAY &lt;dbl&gt; |\n",
       "|---|---|---|---|---|---|---|---|---|---|---|---|---|---|---|---|---|---|---|---|---|\n",
       "| 2015 | 7 |  8 | 3 | WN | 2414 | N8634A | DEN | MCO | 0650 | ⋯ | 1225 |   0 | 0 | 0 | NA | NA | NA | NA | NA | NA |\n",
       "| 2015 | 3 | 11 | 3 | US | 1850 | N187US | PHL | MCO | 0650 | ⋯ | 0913 | -17 | 0 | 0 | NA | NA | NA | NA | NA | NA |\n",
       "| 2015 | 8 |  4 | 2 | MQ | 3429 | N663MQ | CMI | ORD | 0710 | ⋯ | 0752 | -31 | 0 | 0 | NA | NA | NA | NA | NA | NA |\n",
       "| 2015 | 6 |  4 | 4 | AS |  658 | N409AS | SEA | DFW | 0645 | ⋯ | 1225 | -15 | 0 | 0 | NA | NA | NA | NA | NA | NA |\n",
       "| 2015 | 4 |  7 | 2 | DL | 1061 | N3758Y | LAX | MCO | 1025 | ⋯ | 1821 |  18 | 0 | 0 | NA |  0 |  0 |  2 | 16 |  0 |\n",
       "| 2015 | 7 | 17 | 5 | DL |  913 | N317US | TVC | MSP | 1627 | ⋯ | 1641 |  -8 | 0 | 0 | NA | NA | NA | NA | NA | NA |\n",
       "\n"
      ],
      "text/plain": [
       "  YEAR MONTH DAY DAY_OF_WEEK AIRLINE FLIGHT_NUMBER TAIL_NUMBER ORIGIN_AIRPORT\n",
       "1 2015 7      8  3           WN      2414          N8634A      DEN           \n",
       "2 2015 3     11  3           US      1850          N187US      PHL           \n",
       "3 2015 8      4  2           MQ      3429          N663MQ      CMI           \n",
       "4 2015 6      4  4           AS       658          N409AS      SEA           \n",
       "5 2015 4      7  2           DL      1061          N3758Y      LAX           \n",
       "6 2015 7     17  5           DL       913          N317US      TVC           \n",
       "  DESTINATION_AIRPORT SCHEDULED_DEPARTURE ⋯ ARRIVAL_TIME ARRIVAL_DELAY DIVERTED\n",
       "1 MCO                 0650                ⋯ 1225           0           0       \n",
       "2 MCO                 0650                ⋯ 0913         -17           0       \n",
       "3 ORD                 0710                ⋯ 0752         -31           0       \n",
       "4 DFW                 0645                ⋯ 1225         -15           0       \n",
       "5 MCO                 1025                ⋯ 1821          18           0       \n",
       "6 MSP                 1627                ⋯ 1641          -8           0       \n",
       "  CANCELLED CANCELLATION_REASON AIR_SYSTEM_DELAY SECURITY_DELAY AIRLINE_DELAY\n",
       "1 0         NA                  NA               NA             NA           \n",
       "2 0         NA                  NA               NA             NA           \n",
       "3 0         NA                  NA               NA             NA           \n",
       "4 0         NA                  NA               NA             NA           \n",
       "5 0         NA                   0                0              2           \n",
       "6 0         NA                  NA               NA             NA           \n",
       "  LATE_AIRCRAFT_DELAY WEATHER_DELAY\n",
       "1 NA                  NA           \n",
       "2 NA                  NA           \n",
       "3 NA                  NA           \n",
       "4 NA                  NA           \n",
       "5 16                   0           \n",
       "6 NA                  NA           "
      ]
     },
     "metadata": {},
     "output_type": "display_data"
    }
   ],
   "source": [
    "#Exemplo 1: Leitura em partições\n",
    "\n",
    "input = read_csv(fname, n_max = 1000)\n",
    "input %>% head"
   ]
  },
  {
   "cell_type": "code",
   "execution_count": 8,
   "metadata": {},
   "outputs": [],
   "source": [
    "# Aqui estou querendo calcular a quantidade de voos mensais por companhia aérea\n",
    "# Para tanto: 1) agrupamos por MONTH e AIRLINE e 2) somamos a quantidade de voos\n",
    "# Para o item 2) podemos utilizar summarize, count ou tally\n",
    "\n",
    "#Aqui estamos utilizando apenas as 1000 primeiras linhas do banco de dados\n",
    "\n",
    "res1 = input %>% drop_na(MONTH, AIRLINE) %>%\n",
    "    group_by(MONTH, AIRLINE) %>%\n",
    "    tally()"
   ]
  },
  {
   "cell_type": "code",
   "execution_count": 5,
   "metadata": {},
   "outputs": [
    {
     "name": "stderr",
     "output_type": "stream",
     "text": [
      "Parsed with column specification:\n",
      "cols(\n",
      "  .default = col_double(),\n",
      "  AIRLINE = \u001b[31mcol_character()\u001b[39m,\n",
      "  TAIL_NUMBER = \u001b[31mcol_character()\u001b[39m,\n",
      "  ORIGIN_AIRPORT = \u001b[31mcol_character()\u001b[39m,\n",
      "  DESTINATION_AIRPORT = \u001b[31mcol_character()\u001b[39m,\n",
      "  SCHEDULED_DEPARTURE = \u001b[31mcol_character()\u001b[39m,\n",
      "  DEPARTURE_TIME = \u001b[31mcol_character()\u001b[39m,\n",
      "  WHEELS_OFF = \u001b[31mcol_character()\u001b[39m,\n",
      "  WHEELS_ON = \u001b[31mcol_character()\u001b[39m,\n",
      "  SCHEDULED_ARRIVAL = \u001b[31mcol_character()\u001b[39m,\n",
      "  ARRIVAL_TIME = \u001b[31mcol_character()\u001b[39m,\n",
      "  CANCELLATION_REASON = \u001b[31mcol_character()\u001b[39m\n",
      ")\n",
      "See spec(...) for full column specifications.\n"
     ]
    }
   ],
   "source": [
    "#Agora, vamos criar uma função para iniciar a leitura por partições.\n",
    "#Anteriormente estudamos as 1000 linhas. Agora, iremos ler essas mil linhas usando o príncipio de partições.\n",
    "\n",
    "#Criando função getStats\n",
    "#Observe que o código DENTRO DA FUNÇÃO é o mesmo que criamos anteriormente!!!\n",
    "getStats = function(inout, pos){\n",
    "    input %>% drop_na(MONTH, AIRLINE) %>%\n",
    "        group_by(MONTH, AIRLINE) %>%\n",
    "        tally()\n",
    "}\n",
    "\n",
    "suficientes = read_csv_chunked(fname, chunk_size = 1000, callback = DataFrameCallback$new(getStats))"
   ]
  },
  {
   "cell_type": "code",
   "execution_count": 6,
   "metadata": {},
   "outputs": [
    {
     "data": {
      "text/html": [
       "<table>\n",
       "<caption>A grouped_df: 6 × 3</caption>\n",
       "<thead>\n",
       "\t<tr><th scope=col>MONTH</th><th scope=col>AIRLINE</th><th scope=col>n</th></tr>\n",
       "\t<tr><th scope=col>&lt;dbl&gt;</th><th scope=col>&lt;chr&gt;</th><th scope=col>&lt;int&gt;</th></tr>\n",
       "</thead>\n",
       "<tbody>\n",
       "\t<tr><td>1</td><td>AA</td><td> 9</td></tr>\n",
       "\t<tr><td>1</td><td>AS</td><td> 2</td></tr>\n",
       "\t<tr><td>1</td><td>B6</td><td> 3</td></tr>\n",
       "\t<tr><td>1</td><td>DL</td><td>19</td></tr>\n",
       "\t<tr><td>1</td><td>EV</td><td> 5</td></tr>\n",
       "\t<tr><td>1</td><td>F9</td><td> 1</td></tr>\n",
       "</tbody>\n",
       "</table>\n"
      ],
      "text/latex": [
       "A grouped_df: 6 × 3\n",
       "\\begin{tabular}{r|lll}\n",
       " MONTH & AIRLINE & n\\\\\n",
       " <dbl> & <chr> & <int>\\\\\n",
       "\\hline\n",
       "\t 1 & AA &  9\\\\\n",
       "\t 1 & AS &  2\\\\\n",
       "\t 1 & B6 &  3\\\\\n",
       "\t 1 & DL & 19\\\\\n",
       "\t 1 & EV &  5\\\\\n",
       "\t 1 & F9 &  1\\\\\n",
       "\\end{tabular}\n"
      ],
      "text/markdown": [
       "\n",
       "A grouped_df: 6 × 3\n",
       "\n",
       "| MONTH &lt;dbl&gt; | AIRLINE &lt;chr&gt; | n &lt;int&gt; |\n",
       "|---|---|---|\n",
       "| 1 | AA |  9 |\n",
       "| 1 | AS |  2 |\n",
       "| 1 | B6 |  3 |\n",
       "| 1 | DL | 19 |\n",
       "| 1 | EV |  5 |\n",
       "| 1 | F9 |  1 |\n",
       "\n"
      ],
      "text/plain": [
       "  MONTH AIRLINE n \n",
       "1 1     AA       9\n",
       "2 1     AS       2\n",
       "3 1     B6       3\n",
       "4 1     DL      19\n",
       "5 1     EV       5\n",
       "6 1     F9       1"
      ]
     },
     "metadata": {},
     "output_type": "display_data"
    }
   ],
   "source": [
    "suficientes %>% head"
   ]
  },
  {
   "cell_type": "code",
   "execution_count": 10,
   "metadata": {},
   "outputs": [
    {
     "data": {
      "text/html": [
       "<table>\n",
       "<caption>A grouped_df: 6 × 3</caption>\n",
       "<thead>\n",
       "\t<tr><th scope=col>MONTH</th><th scope=col>AIRLINE</th><th scope=col>n</th></tr>\n",
       "\t<tr><th scope=col>&lt;dbl&gt;</th><th scope=col>&lt;chr&gt;</th><th scope=col>&lt;int&gt;</th></tr>\n",
       "</thead>\n",
       "<tbody>\n",
       "\t<tr><td>1</td><td>AA</td><td> 9</td></tr>\n",
       "\t<tr><td>1</td><td>AS</td><td> 2</td></tr>\n",
       "\t<tr><td>1</td><td>B6</td><td> 3</td></tr>\n",
       "\t<tr><td>1</td><td>DL</td><td>19</td></tr>\n",
       "\t<tr><td>1</td><td>EV</td><td> 5</td></tr>\n",
       "\t<tr><td>1</td><td>F9</td><td> 1</td></tr>\n",
       "</tbody>\n",
       "</table>\n"
      ],
      "text/latex": [
       "A grouped_df: 6 × 3\n",
       "\\begin{tabular}{r|lll}\n",
       " MONTH & AIRLINE & n\\\\\n",
       " <dbl> & <chr> & <int>\\\\\n",
       "\\hline\n",
       "\t 1 & AA &  9\\\\\n",
       "\t 1 & AS &  2\\\\\n",
       "\t 1 & B6 &  3\\\\\n",
       "\t 1 & DL & 19\\\\\n",
       "\t 1 & EV &  5\\\\\n",
       "\t 1 & F9 &  1\\\\\n",
       "\\end{tabular}\n"
      ],
      "text/markdown": [
       "\n",
       "A grouped_df: 6 × 3\n",
       "\n",
       "| MONTH &lt;dbl&gt; | AIRLINE &lt;chr&gt; | n &lt;int&gt; |\n",
       "|---|---|---|\n",
       "| 1 | AA |  9 |\n",
       "| 1 | AS |  2 |\n",
       "| 1 | B6 |  3 |\n",
       "| 1 | DL | 19 |\n",
       "| 1 | EV |  5 |\n",
       "| 1 | F9 |  1 |\n",
       "\n"
      ],
      "text/plain": [
       "  MONTH AIRLINE n \n",
       "1 1     AA       9\n",
       "2 1     AS       2\n",
       "3 1     B6       3\n",
       "4 1     DL      19\n",
       "5 1     EV       5\n",
       "6 1     F9       1"
      ]
     },
     "metadata": {},
     "output_type": "display_data"
    }
   ],
   "source": [
    "head(res1)"
   ]
  },
  {
   "cell_type": "code",
   "execution_count": 38,
   "metadata": {},
   "outputs": [
    {
     "data": {
      "text/html": [
       "<table>\n",
       "<caption>A grouped_df: 151 × 3</caption>\n",
       "<thead>\n",
       "\t<tr><th scope=col>AIRLINE</th><th scope=col>MONTH</th><th scope=col>n</th></tr>\n",
       "\t<tr><th scope=col>&lt;chr&gt;</th><th scope=col>&lt;dbl&gt;</th><th scope=col>&lt;int&gt;</th></tr>\n",
       "</thead>\n",
       "<tbody>\n",
       "\t<tr><td>AA</td><td> 1</td><td> 90</td></tr>\n",
       "\t<tr><td>AA</td><td> 2</td><td> 50</td></tr>\n",
       "\t<tr><td>AA</td><td> 3</td><td>100</td></tr>\n",
       "\t<tr><td>AA</td><td> 4</td><td>100</td></tr>\n",
       "\t<tr><td>AA</td><td> 5</td><td> 90</td></tr>\n",
       "\t<tr><td>AA</td><td> 6</td><td> 60</td></tr>\n",
       "\t<tr><td>AA</td><td> 7</td><td>180</td></tr>\n",
       "\t<tr><td>AA</td><td> 8</td><td>110</td></tr>\n",
       "\t<tr><td>AA</td><td> 9</td><td>170</td></tr>\n",
       "\t<tr><td>AA</td><td>10</td><td>160</td></tr>\n",
       "\t<tr><td>AA</td><td>11</td><td>180</td></tr>\n",
       "\t<tr><td>AA</td><td>12</td><td>220</td></tr>\n",
       "\t<tr><td>AS</td><td> 1</td><td> 20</td></tr>\n",
       "\t<tr><td>AS</td><td> 2</td><td> 30</td></tr>\n",
       "\t<tr><td>AS</td><td> 3</td><td> 10</td></tr>\n",
       "\t<tr><td>AS</td><td> 4</td><td> 50</td></tr>\n",
       "\t<tr><td>AS</td><td> 5</td><td> 20</td></tr>\n",
       "\t<tr><td>AS</td><td> 6</td><td> 40</td></tr>\n",
       "\t<tr><td>AS</td><td> 7</td><td> 10</td></tr>\n",
       "\t<tr><td>AS</td><td> 8</td><td> 40</td></tr>\n",
       "\t<tr><td>AS</td><td>10</td><td> 30</td></tr>\n",
       "\t<tr><td>AS</td><td>11</td><td> 10</td></tr>\n",
       "\t<tr><td>AS</td><td>12</td><td> 10</td></tr>\n",
       "\t<tr><td>B6</td><td> 1</td><td> 30</td></tr>\n",
       "\t<tr><td>B6</td><td> 2</td><td> 40</td></tr>\n",
       "\t<tr><td>B6</td><td> 3</td><td> 30</td></tr>\n",
       "\t<tr><td>B6</td><td> 4</td><td> 30</td></tr>\n",
       "\t<tr><td>B6</td><td> 5</td><td> 30</td></tr>\n",
       "\t<tr><td>B6</td><td> 6</td><td> 30</td></tr>\n",
       "\t<tr><td>B6</td><td> 7</td><td> 30</td></tr>\n",
       "\t<tr><td>⋮</td><td>⋮</td><td>⋮</td></tr>\n",
       "\t<tr><td>UA</td><td> 9</td><td>110</td></tr>\n",
       "\t<tr><td>UA</td><td>10</td><td> 70</td></tr>\n",
       "\t<tr><td>UA</td><td>11</td><td> 70</td></tr>\n",
       "\t<tr><td>UA</td><td>12</td><td> 40</td></tr>\n",
       "\t<tr><td>US</td><td> 1</td><td> 50</td></tr>\n",
       "\t<tr><td>US</td><td> 2</td><td> 30</td></tr>\n",
       "\t<tr><td>US</td><td> 3</td><td> 60</td></tr>\n",
       "\t<tr><td>US</td><td> 4</td><td> 70</td></tr>\n",
       "\t<tr><td>US</td><td> 5</td><td> 70</td></tr>\n",
       "\t<tr><td>US</td><td> 6</td><td> 50</td></tr>\n",
       "\t<tr><td>VX</td><td> 1</td><td> 10</td></tr>\n",
       "\t<tr><td>VX</td><td> 2</td><td> 10</td></tr>\n",
       "\t<tr><td>VX</td><td> 4</td><td> 10</td></tr>\n",
       "\t<tr><td>VX</td><td> 6</td><td> 10</td></tr>\n",
       "\t<tr><td>VX</td><td> 7</td><td> 10</td></tr>\n",
       "\t<tr><td>VX</td><td> 8</td><td> 10</td></tr>\n",
       "\t<tr><td>VX</td><td> 9</td><td> 10</td></tr>\n",
       "\t<tr><td>VX</td><td>11</td><td> 10</td></tr>\n",
       "\t<tr><td>WN</td><td> 1</td><td>140</td></tr>\n",
       "\t<tr><td>WN</td><td> 2</td><td>120</td></tr>\n",
       "\t<tr><td>WN</td><td> 3</td><td>160</td></tr>\n",
       "\t<tr><td>WN</td><td> 4</td><td>140</td></tr>\n",
       "\t<tr><td>WN</td><td> 5</td><td>160</td></tr>\n",
       "\t<tr><td>WN</td><td> 6</td><td>170</td></tr>\n",
       "\t<tr><td>WN</td><td> 7</td><td>160</td></tr>\n",
       "\t<tr><td>WN</td><td> 8</td><td>190</td></tr>\n",
       "\t<tr><td>WN</td><td> 9</td><td>240</td></tr>\n",
       "\t<tr><td>WN</td><td>10</td><td>150</td></tr>\n",
       "\t<tr><td>WN</td><td>11</td><td>180</td></tr>\n",
       "\t<tr><td>WN</td><td>12</td><td>130</td></tr>\n",
       "</tbody>\n",
       "</table>\n"
      ],
      "text/latex": [
       "A grouped_df: 151 × 3\n",
       "\\begin{tabular}{r|lll}\n",
       " AIRLINE & MONTH & n\\\\\n",
       " <chr> & <dbl> & <int>\\\\\n",
       "\\hline\n",
       "\t AA &  1 &  90\\\\\n",
       "\t AA &  2 &  50\\\\\n",
       "\t AA &  3 & 100\\\\\n",
       "\t AA &  4 & 100\\\\\n",
       "\t AA &  5 &  90\\\\\n",
       "\t AA &  6 &  60\\\\\n",
       "\t AA &  7 & 180\\\\\n",
       "\t AA &  8 & 110\\\\\n",
       "\t AA &  9 & 170\\\\\n",
       "\t AA & 10 & 160\\\\\n",
       "\t AA & 11 & 180\\\\\n",
       "\t AA & 12 & 220\\\\\n",
       "\t AS &  1 &  20\\\\\n",
       "\t AS &  2 &  30\\\\\n",
       "\t AS &  3 &  10\\\\\n",
       "\t AS &  4 &  50\\\\\n",
       "\t AS &  5 &  20\\\\\n",
       "\t AS &  6 &  40\\\\\n",
       "\t AS &  7 &  10\\\\\n",
       "\t AS &  8 &  40\\\\\n",
       "\t AS & 10 &  30\\\\\n",
       "\t AS & 11 &  10\\\\\n",
       "\t AS & 12 &  10\\\\\n",
       "\t B6 &  1 &  30\\\\\n",
       "\t B6 &  2 &  40\\\\\n",
       "\t B6 &  3 &  30\\\\\n",
       "\t B6 &  4 &  30\\\\\n",
       "\t B6 &  5 &  30\\\\\n",
       "\t B6 &  6 &  30\\\\\n",
       "\t B6 &  7 &  30\\\\\n",
       "\t ⋮ & ⋮ & ⋮\\\\\n",
       "\t UA &  9 & 110\\\\\n",
       "\t UA & 10 &  70\\\\\n",
       "\t UA & 11 &  70\\\\\n",
       "\t UA & 12 &  40\\\\\n",
       "\t US &  1 &  50\\\\\n",
       "\t US &  2 &  30\\\\\n",
       "\t US &  3 &  60\\\\\n",
       "\t US &  4 &  70\\\\\n",
       "\t US &  5 &  70\\\\\n",
       "\t US &  6 &  50\\\\\n",
       "\t VX &  1 &  10\\\\\n",
       "\t VX &  2 &  10\\\\\n",
       "\t VX &  4 &  10\\\\\n",
       "\t VX &  6 &  10\\\\\n",
       "\t VX &  7 &  10\\\\\n",
       "\t VX &  8 &  10\\\\\n",
       "\t VX &  9 &  10\\\\\n",
       "\t VX & 11 &  10\\\\\n",
       "\t WN &  1 & 140\\\\\n",
       "\t WN &  2 & 120\\\\\n",
       "\t WN &  3 & 160\\\\\n",
       "\t WN &  4 & 140\\\\\n",
       "\t WN &  5 & 160\\\\\n",
       "\t WN &  6 & 170\\\\\n",
       "\t WN &  7 & 160\\\\\n",
       "\t WN &  8 & 190\\\\\n",
       "\t WN &  9 & 240\\\\\n",
       "\t WN & 10 & 150\\\\\n",
       "\t WN & 11 & 180\\\\\n",
       "\t WN & 12 & 130\\\\\n",
       "\\end{tabular}\n"
      ],
      "text/markdown": [
       "\n",
       "A grouped_df: 151 × 3\n",
       "\n",
       "| AIRLINE &lt;chr&gt; | MONTH &lt;dbl&gt; | n &lt;int&gt; |\n",
       "|---|---|---|\n",
       "| AA |  1 |  90 |\n",
       "| AA |  2 |  50 |\n",
       "| AA |  3 | 100 |\n",
       "| AA |  4 | 100 |\n",
       "| AA |  5 |  90 |\n",
       "| AA |  6 |  60 |\n",
       "| AA |  7 | 180 |\n",
       "| AA |  8 | 110 |\n",
       "| AA |  9 | 170 |\n",
       "| AA | 10 | 160 |\n",
       "| AA | 11 | 180 |\n",
       "| AA | 12 | 220 |\n",
       "| AS |  1 |  20 |\n",
       "| AS |  2 |  30 |\n",
       "| AS |  3 |  10 |\n",
       "| AS |  4 |  50 |\n",
       "| AS |  5 |  20 |\n",
       "| AS |  6 |  40 |\n",
       "| AS |  7 |  10 |\n",
       "| AS |  8 |  40 |\n",
       "| AS | 10 |  30 |\n",
       "| AS | 11 |  10 |\n",
       "| AS | 12 |  10 |\n",
       "| B6 |  1 |  30 |\n",
       "| B6 |  2 |  40 |\n",
       "| B6 |  3 |  30 |\n",
       "| B6 |  4 |  30 |\n",
       "| B6 |  5 |  30 |\n",
       "| B6 |  6 |  30 |\n",
       "| B6 |  7 |  30 |\n",
       "| ⋮ | ⋮ | ⋮ |\n",
       "| UA |  9 | 110 |\n",
       "| UA | 10 |  70 |\n",
       "| UA | 11 |  70 |\n",
       "| UA | 12 |  40 |\n",
       "| US |  1 |  50 |\n",
       "| US |  2 |  30 |\n",
       "| US |  3 |  60 |\n",
       "| US |  4 |  70 |\n",
       "| US |  5 |  70 |\n",
       "| US |  6 |  50 |\n",
       "| VX |  1 |  10 |\n",
       "| VX |  2 |  10 |\n",
       "| VX |  4 |  10 |\n",
       "| VX |  6 |  10 |\n",
       "| VX |  7 |  10 |\n",
       "| VX |  8 |  10 |\n",
       "| VX |  9 |  10 |\n",
       "| VX | 11 |  10 |\n",
       "| WN |  1 | 140 |\n",
       "| WN |  2 | 120 |\n",
       "| WN |  3 | 160 |\n",
       "| WN |  4 | 140 |\n",
       "| WN |  5 | 160 |\n",
       "| WN |  6 | 170 |\n",
       "| WN |  7 | 160 |\n",
       "| WN |  8 | 190 |\n",
       "| WN |  9 | 240 |\n",
       "| WN | 10 | 150 |\n",
       "| WN | 11 | 180 |\n",
       "| WN | 12 | 130 |\n",
       "\n"
      ],
      "text/plain": [
       "    AIRLINE MONTH n  \n",
       "1   AA       1     90\n",
       "2   AA       2     50\n",
       "3   AA       3    100\n",
       "4   AA       4    100\n",
       "5   AA       5     90\n",
       "6   AA       6     60\n",
       "7   AA       7    180\n",
       "8   AA       8    110\n",
       "9   AA       9    170\n",
       "10  AA      10    160\n",
       "11  AA      11    180\n",
       "12  AA      12    220\n",
       "13  AS       1     20\n",
       "14  AS       2     30\n",
       "15  AS       3     10\n",
       "16  AS       4     50\n",
       "17  AS       5     20\n",
       "18  AS       6     40\n",
       "19  AS       7     10\n",
       "20  AS       8     40\n",
       "21  AS      10     30\n",
       "22  AS      11     10\n",
       "23  AS      12     10\n",
       "24  B6       1     30\n",
       "25  B6       2     40\n",
       "26  B6       3     30\n",
       "27  B6       4     30\n",
       "28  B6       5     30\n",
       "29  B6       6     30\n",
       "30  B6       7     30\n",
       "⋮   ⋮       ⋮     ⋮  \n",
       "122 UA       9    110\n",
       "123 UA      10     70\n",
       "124 UA      11     70\n",
       "125 UA      12     40\n",
       "126 US       1     50\n",
       "127 US       2     30\n",
       "128 US       3     60\n",
       "129 US       4     70\n",
       "130 US       5     70\n",
       "131 US       6     50\n",
       "132 VX       1     10\n",
       "133 VX       2     10\n",
       "134 VX       4     10\n",
       "135 VX       6     10\n",
       "136 VX       7     10\n",
       "137 VX       8     10\n",
       "138 VX       9     10\n",
       "139 VX      11     10\n",
       "140 WN       1    140\n",
       "141 WN       2    120\n",
       "142 WN       3    160\n",
       "143 WN       4    140\n",
       "144 WN       5    160\n",
       "145 WN       6    170\n",
       "146 WN       7    160\n",
       "147 WN       8    190\n",
       "148 WN       9    240\n",
       "149 WN      10    150\n",
       "150 WN      11    180\n",
       "151 WN      12    130"
      ]
     },
     "metadata": {},
     "output_type": "display_data"
    }
   ],
   "source": [
    "#Agora, iremos ver os os voos mensais por companhia aérea:\n",
    "\n",
    "computeStats = function(input)\n",
    "    input %>% group_by(AIRLINE, MONTH) %>%\n",
    "        summarise(n=sum(n))\n",
    "suficientes %>% computeStats"
   ]
  },
  {
   "cell_type": "code",
   "execution_count": 14,
   "metadata": {},
   "outputs": [
    {
     "data": {
      "text/html": [
       "<table>\n",
       "<caption>A data.frame: 3 × 2</caption>\n",
       "<thead>\n",
       "\t<tr><th scope=col>c1</th><th scope=col>x1</th></tr>\n",
       "\t<tr><th scope=col>&lt;dbl&gt;</th><th scope=col>&lt;dbl&gt;</th></tr>\n",
       "</thead>\n",
       "<tbody>\n",
       "\t<tr><td>1</td><td>-1.207334</td></tr>\n",
       "\t<tr><td>2</td><td> 2.618244</td></tr>\n",
       "\t<tr><td>3</td><td>-1.163824</td></tr>\n",
       "</tbody>\n",
       "</table>\n"
      ],
      "text/latex": [
       "A data.frame: 3 × 2\n",
       "\\begin{tabular}{r|ll}\n",
       " c1 & x1\\\\\n",
       " <dbl> & <dbl>\\\\\n",
       "\\hline\n",
       "\t 1 & -1.207334\\\\\n",
       "\t 2 &  2.618244\\\\\n",
       "\t 3 & -1.163824\\\\\n",
       "\\end{tabular}\n"
      ],
      "text/markdown": [
       "\n",
       "A data.frame: 3 × 2\n",
       "\n",
       "| c1 &lt;dbl&gt; | x1 &lt;dbl&gt; |\n",
       "|---|---|\n",
       "| 1 | -1.207334 |\n",
       "| 2 |  2.618244 |\n",
       "| 3 | -1.163824 |\n",
       "\n"
      ],
      "text/plain": [
       "  c1 x1       \n",
       "1 1  -1.207334\n",
       "2 2   2.618244\n",
       "3 3  -1.163824"
      ]
     },
     "metadata": {},
     "output_type": "display_data"
    },
    {
     "data": {
      "text/html": [
       "<table>\n",
       "<caption>A data.frame: 3 × 2</caption>\n",
       "<thead>\n",
       "\t<tr><th scope=col>c1</th><th scope=col>y2</th></tr>\n",
       "\t<tr><th scope=col>&lt;dbl&gt;</th><th scope=col>&lt;dbl&gt;</th></tr>\n",
       "</thead>\n",
       "<tbody>\n",
       "\t<tr><td>0</td><td> 1.5711702</td></tr>\n",
       "\t<tr><td>2</td><td>-2.3410132</td></tr>\n",
       "\t<tr><td>3</td><td> 0.7706199</td></tr>\n",
       "</tbody>\n",
       "</table>\n"
      ],
      "text/latex": [
       "A data.frame: 3 × 2\n",
       "\\begin{tabular}{r|ll}\n",
       " c1 & y2\\\\\n",
       " <dbl> & <dbl>\\\\\n",
       "\\hline\n",
       "\t 0 &  1.5711702\\\\\n",
       "\t 2 & -2.3410132\\\\\n",
       "\t 3 &  0.7706199\\\\\n",
       "\\end{tabular}\n"
      ],
      "text/markdown": [
       "\n",
       "A data.frame: 3 × 2\n",
       "\n",
       "| c1 &lt;dbl&gt; | y2 &lt;dbl&gt; |\n",
       "|---|---|\n",
       "| 0 |  1.5711702 |\n",
       "| 2 | -2.3410132 |\n",
       "| 3 |  0.7706199 |\n",
       "\n"
      ],
      "text/plain": [
       "  c1 y2        \n",
       "1 0   1.5711702\n",
       "2 2  -2.3410132\n",
       "3 3   0.7706199"
      ]
     },
     "metadata": {},
     "output_type": "display_data"
    }
   ],
   "source": [
    "#Exemplo 2: Tipos de join\n",
    "\n",
    "x = data.frame(c1 = c(1,2,3), x1 = rnorm(3))\n",
    "y = data.frame(c1 = c(0,2,3), y2 = rnorm(3))\n",
    "x\n",
    "y"
   ]
  },
  {
   "cell_type": "code",
   "execution_count": 15,
   "metadata": {},
   "outputs": [
    {
     "data": {
      "text/html": [
       "<table>\n",
       "<caption>A data.frame: 2 × 2</caption>\n",
       "<thead>\n",
       "\t<tr><th scope=col>c1</th><th scope=col>x1</th></tr>\n",
       "\t<tr><th scope=col>&lt;dbl&gt;</th><th scope=col>&lt;dbl&gt;</th></tr>\n",
       "</thead>\n",
       "<tbody>\n",
       "\t<tr><td>2</td><td> 2.618244</td></tr>\n",
       "\t<tr><td>3</td><td>-1.163824</td></tr>\n",
       "</tbody>\n",
       "</table>\n"
      ],
      "text/latex": [
       "A data.frame: 2 × 2\n",
       "\\begin{tabular}{r|ll}\n",
       " c1 & x1\\\\\n",
       " <dbl> & <dbl>\\\\\n",
       "\\hline\n",
       "\t 2 &  2.618244\\\\\n",
       "\t 3 & -1.163824\\\\\n",
       "\\end{tabular}\n"
      ],
      "text/markdown": [
       "\n",
       "A data.frame: 2 × 2\n",
       "\n",
       "| c1 &lt;dbl&gt; | x1 &lt;dbl&gt; |\n",
       "|---|---|\n",
       "| 2 |  2.618244 |\n",
       "| 3 | -1.163824 |\n",
       "\n"
      ],
      "text/plain": [
       "  c1 x1       \n",
       "1 2   2.618244\n",
       "2 3  -1.163824"
      ]
     },
     "metadata": {},
     "output_type": "display_data"
    }
   ],
   "source": [
    "#semi_join: todas as colinas da tabela 1; todos os registros da interseção\n",
    "\n",
    "x %>% semi_join(y, by = \"c1\")"
   ]
  },
  {
   "cell_type": "code",
   "execution_count": 16,
   "metadata": {},
   "outputs": [
    {
     "data": {
      "text/html": [
       "<table>\n",
       "<caption>A data.frame: 1 × 2</caption>\n",
       "<thead>\n",
       "\t<tr><th scope=col>c1</th><th scope=col>x1</th></tr>\n",
       "\t<tr><th scope=col>&lt;dbl&gt;</th><th scope=col>&lt;dbl&gt;</th></tr>\n",
       "</thead>\n",
       "<tbody>\n",
       "\t<tr><td>1</td><td>-1.207334</td></tr>\n",
       "</tbody>\n",
       "</table>\n"
      ],
      "text/latex": [
       "A data.frame: 1 × 2\n",
       "\\begin{tabular}{r|ll}\n",
       " c1 & x1\\\\\n",
       " <dbl> & <dbl>\\\\\n",
       "\\hline\n",
       "\t 1 & -1.207334\\\\\n",
       "\\end{tabular}\n"
      ],
      "text/markdown": [
       "\n",
       "A data.frame: 1 × 2\n",
       "\n",
       "| c1 &lt;dbl&gt; | x1 &lt;dbl&gt; |\n",
       "|---|---|\n",
       "| 1 | -1.207334 |\n",
       "\n"
      ],
      "text/plain": [
       "  c1 x1       \n",
       "1 1  -1.207334"
      ]
     },
     "metadata": {},
     "output_type": "display_data"
    }
   ],
   "source": [
    "#anti_join: todas as colinas da tabela 1; todos os registros que não existirem da tabela 2\n",
    "\n",
    "x %>% anti_join(y, by = \"c1\")"
   ]
  },
  {
   "cell_type": "code",
   "execution_count": 17,
   "metadata": {},
   "outputs": [
    {
     "data": {
      "text/html": [
       "<table>\n",
       "<caption>A data.frame: 3 × 3</caption>\n",
       "<thead>\n",
       "\t<tr><th scope=col>c1</th><th scope=col>x1</th><th scope=col>y2</th></tr>\n",
       "\t<tr><th scope=col>&lt;dbl&gt;</th><th scope=col>&lt;dbl&gt;</th><th scope=col>&lt;dbl&gt;</th></tr>\n",
       "</thead>\n",
       "<tbody>\n",
       "\t<tr><td>1</td><td>-1.207334</td><td>        NA</td></tr>\n",
       "\t<tr><td>2</td><td> 2.618244</td><td>-2.3410132</td></tr>\n",
       "\t<tr><td>3</td><td>-1.163824</td><td> 0.7706199</td></tr>\n",
       "</tbody>\n",
       "</table>\n"
      ],
      "text/latex": [
       "A data.frame: 3 × 3\n",
       "\\begin{tabular}{r|lll}\n",
       " c1 & x1 & y2\\\\\n",
       " <dbl> & <dbl> & <dbl>\\\\\n",
       "\\hline\n",
       "\t 1 & -1.207334 &         NA\\\\\n",
       "\t 2 &  2.618244 & -2.3410132\\\\\n",
       "\t 3 & -1.163824 &  0.7706199\\\\\n",
       "\\end{tabular}\n"
      ],
      "text/markdown": [
       "\n",
       "A data.frame: 3 × 3\n",
       "\n",
       "| c1 &lt;dbl&gt; | x1 &lt;dbl&gt; | y2 &lt;dbl&gt; |\n",
       "|---|---|---|\n",
       "| 1 | -1.207334 |         NA |\n",
       "| 2 |  2.618244 | -2.3410132 |\n",
       "| 3 | -1.163824 |  0.7706199 |\n",
       "\n"
      ],
      "text/plain": [
       "  c1 x1        y2        \n",
       "1 1  -1.207334         NA\n",
       "2 2   2.618244 -2.3410132\n",
       "3 3  -1.163824  0.7706199"
      ]
     },
     "metadata": {},
     "output_type": "display_data"
    }
   ],
   "source": [
    "#left_join: todas as colunas de ambas as tabelas; todos os registros da esquerda\n",
    "\n",
    "x %>% left_join(y, by = \"c1\")"
   ]
  },
  {
   "cell_type": "code",
   "execution_count": 18,
   "metadata": {},
   "outputs": [
    {
     "data": {
      "text/html": [
       "<table>\n",
       "<caption>A data.frame: 3 × 3</caption>\n",
       "<thead>\n",
       "\t<tr><th scope=col>c1</th><th scope=col>x1</th><th scope=col>y2</th></tr>\n",
       "\t<tr><th scope=col>&lt;dbl&gt;</th><th scope=col>&lt;dbl&gt;</th><th scope=col>&lt;dbl&gt;</th></tr>\n",
       "</thead>\n",
       "<tbody>\n",
       "\t<tr><td>0</td><td>       NA</td><td> 1.5711702</td></tr>\n",
       "\t<tr><td>2</td><td> 2.618244</td><td>-2.3410132</td></tr>\n",
       "\t<tr><td>3</td><td>-1.163824</td><td> 0.7706199</td></tr>\n",
       "</tbody>\n",
       "</table>\n"
      ],
      "text/latex": [
       "A data.frame: 3 × 3\n",
       "\\begin{tabular}{r|lll}\n",
       " c1 & x1 & y2\\\\\n",
       " <dbl> & <dbl> & <dbl>\\\\\n",
       "\\hline\n",
       "\t 0 &        NA &  1.5711702\\\\\n",
       "\t 2 &  2.618244 & -2.3410132\\\\\n",
       "\t 3 & -1.163824 &  0.7706199\\\\\n",
       "\\end{tabular}\n"
      ],
      "text/markdown": [
       "\n",
       "A data.frame: 3 × 3\n",
       "\n",
       "| c1 &lt;dbl&gt; | x1 &lt;dbl&gt; | y2 &lt;dbl&gt; |\n",
       "|---|---|---|\n",
       "| 0 |        NA |  1.5711702 |\n",
       "| 2 |  2.618244 | -2.3410132 |\n",
       "| 3 | -1.163824 |  0.7706199 |\n",
       "\n"
      ],
      "text/plain": [
       "  c1 x1        y2        \n",
       "1 0         NA  1.5711702\n",
       "2 2   2.618244 -2.3410132\n",
       "3 3  -1.163824  0.7706199"
      ]
     },
     "metadata": {},
     "output_type": "display_data"
    }
   ],
   "source": [
    "#right_join: todas as colunas de ambas as tabelas; todos os registros da direita\n",
    "\n",
    "x %>% right_join(y, by = \"c1\")"
   ]
  },
  {
   "cell_type": "code",
   "execution_count": 19,
   "metadata": {},
   "outputs": [
    {
     "data": {
      "text/html": [
       "<table>\n",
       "<caption>A data.frame: 2 × 3</caption>\n",
       "<thead>\n",
       "\t<tr><th scope=col>c1</th><th scope=col>x1</th><th scope=col>y2</th></tr>\n",
       "\t<tr><th scope=col>&lt;dbl&gt;</th><th scope=col>&lt;dbl&gt;</th><th scope=col>&lt;dbl&gt;</th></tr>\n",
       "</thead>\n",
       "<tbody>\n",
       "\t<tr><td>2</td><td> 2.618244</td><td>-2.3410132</td></tr>\n",
       "\t<tr><td>3</td><td>-1.163824</td><td> 0.7706199</td></tr>\n",
       "</tbody>\n",
       "</table>\n"
      ],
      "text/latex": [
       "A data.frame: 2 × 3\n",
       "\\begin{tabular}{r|lll}\n",
       " c1 & x1 & y2\\\\\n",
       " <dbl> & <dbl> & <dbl>\\\\\n",
       "\\hline\n",
       "\t 2 &  2.618244 & -2.3410132\\\\\n",
       "\t 3 & -1.163824 &  0.7706199\\\\\n",
       "\\end{tabular}\n"
      ],
      "text/markdown": [
       "\n",
       "A data.frame: 2 × 3\n",
       "\n",
       "| c1 &lt;dbl&gt; | x1 &lt;dbl&gt; | y2 &lt;dbl&gt; |\n",
       "|---|---|---|\n",
       "| 2 |  2.618244 | -2.3410132 |\n",
       "| 3 | -1.163824 |  0.7706199 |\n",
       "\n"
      ],
      "text/plain": [
       "  c1 x1        y2        \n",
       "1 2   2.618244 -2.3410132\n",
       "2 3  -1.163824  0.7706199"
      ]
     },
     "metadata": {},
     "output_type": "display_data"
    }
   ],
   "source": [
    "#inner_join: todas as colunas de ambas as tabelas; todos os registros da interseção\n",
    "\n",
    "x %>% inner_join(y, by = \"c1\")"
   ]
  },
  {
   "cell_type": "code",
   "execution_count": 20,
   "metadata": {},
   "outputs": [
    {
     "data": {
      "text/html": [
       "<table>\n",
       "<caption>A data.frame: 4 × 3</caption>\n",
       "<thead>\n",
       "\t<tr><th scope=col>c1</th><th scope=col>x1</th><th scope=col>y2</th></tr>\n",
       "\t<tr><th scope=col>&lt;dbl&gt;</th><th scope=col>&lt;dbl&gt;</th><th scope=col>&lt;dbl&gt;</th></tr>\n",
       "</thead>\n",
       "<tbody>\n",
       "\t<tr><td>1</td><td>-1.207334</td><td>        NA</td></tr>\n",
       "\t<tr><td>2</td><td> 2.618244</td><td>-2.3410132</td></tr>\n",
       "\t<tr><td>3</td><td>-1.163824</td><td> 0.7706199</td></tr>\n",
       "\t<tr><td>0</td><td>       NA</td><td> 1.5711702</td></tr>\n",
       "</tbody>\n",
       "</table>\n"
      ],
      "text/latex": [
       "A data.frame: 4 × 3\n",
       "\\begin{tabular}{r|lll}\n",
       " c1 & x1 & y2\\\\\n",
       " <dbl> & <dbl> & <dbl>\\\\\n",
       "\\hline\n",
       "\t 1 & -1.207334 &         NA\\\\\n",
       "\t 2 &  2.618244 & -2.3410132\\\\\n",
       "\t 3 & -1.163824 &  0.7706199\\\\\n",
       "\t 0 &        NA &  1.5711702\\\\\n",
       "\\end{tabular}\n"
      ],
      "text/markdown": [
       "\n",
       "A data.frame: 4 × 3\n",
       "\n",
       "| c1 &lt;dbl&gt; | x1 &lt;dbl&gt; | y2 &lt;dbl&gt; |\n",
       "|---|---|---|\n",
       "| 1 | -1.207334 |         NA |\n",
       "| 2 |  2.618244 | -2.3410132 |\n",
       "| 3 | -1.163824 |  0.7706199 |\n",
       "| 0 |        NA |  1.5711702 |\n",
       "\n"
      ],
      "text/plain": [
       "  c1 x1        y2        \n",
       "1 1  -1.207334         NA\n",
       "2 2   2.618244 -2.3410132\n",
       "3 3  -1.163824  0.7706199\n",
       "4 0         NA  1.5711702"
      ]
     },
     "metadata": {},
     "output_type": "display_data"
    }
   ],
   "source": [
    "#full_join: todas as colunas de ambas as tabelas; todos os registros de ambas as tabelas\n",
    "\n",
    "x %>% full_join(y, by = \"c1\")"
   ]
  },
  {
   "cell_type": "code",
   "execution_count": null,
   "metadata": {},
   "outputs": [],
   "source": [
    "#Primeiramente devemos identificar a chave para fazer a ligação entre as tabelas.\n",
    "#Se as tabelas tiverem nomes diferentes, fazemos:\n",
    "#Tabela 1: chama RG; tabela 2: chama RegistroGeral\n",
    "#x %>% left_join(y, by = \"RG\"=\"RegistroGeral\")"
   ]
  },
  {
   "cell_type": "code",
   "execution_count": 29,
   "metadata": {},
   "outputs": [
    {
     "data": {
      "text/html": [
       "<table>\n",
       "<caption>A tibble: 2 × 3</caption>\n",
       "<thead>\n",
       "\t<tr><th scope=col>Pais</th><th scope=col>1999</th><th scope=col>2000</th></tr>\n",
       "\t<tr><th scope=col>&lt;chr&gt;</th><th scope=col>&lt;dbl&gt;</th><th scope=col>&lt;dbl&gt;</th></tr>\n",
       "</thead>\n",
       "<tbody>\n",
       "\t<tr><td>Brasil   </td><td>10</td><td>20</td></tr>\n",
       "\t<tr><td>Argentina</td><td>20</td><td>30</td></tr>\n",
       "</tbody>\n",
       "</table>\n"
      ],
      "text/latex": [
       "A tibble: 2 × 3\n",
       "\\begin{tabular}{r|lll}\n",
       " Pais & 1999 & 2000\\\\\n",
       " <chr> & <dbl> & <dbl>\\\\\n",
       "\\hline\n",
       "\t Brasil    & 10 & 20\\\\\n",
       "\t Argentina & 20 & 30\\\\\n",
       "\\end{tabular}\n"
      ],
      "text/markdown": [
       "\n",
       "A tibble: 2 × 3\n",
       "\n",
       "| Pais &lt;chr&gt; | 1999 &lt;dbl&gt; | 2000 &lt;dbl&gt; |\n",
       "|---|---|---|\n",
       "| Brasil    | 10 | 20 |\n",
       "| Argentina | 20 | 30 |\n",
       "\n"
      ],
      "text/plain": [
       "  Pais      1999 2000\n",
       "1 Brasil    10   20  \n",
       "2 Argentina 20   30  "
      ]
     },
     "metadata": {},
     "output_type": "display_data"
    }
   ],
   "source": [
    "#Exemplo 3: Gather\n",
    "\n",
    "taxas = tibble(Pais = c(\"Brasil\", \"Argentina\"), \n",
    "                  \"1999\" = c(10, 20),\n",
    "                  \"2000\" = c(20, 30))\n",
    "taxas"
   ]
  },
  {
   "cell_type": "code",
   "execution_count": 31,
   "metadata": {},
   "outputs": [
    {
     "data": {
      "text/html": [
       "<table>\n",
       "<caption>A tibble: 4 × 3</caption>\n",
       "<thead>\n",
       "\t<tr><th scope=col>Pais</th><th scope=col>Ano</th><th scope=col>Valor</th></tr>\n",
       "\t<tr><th scope=col>&lt;chr&gt;</th><th scope=col>&lt;chr&gt;</th><th scope=col>&lt;dbl&gt;</th></tr>\n",
       "</thead>\n",
       "<tbody>\n",
       "\t<tr><td>Brasil   </td><td>1999</td><td>10</td></tr>\n",
       "\t<tr><td>Argentina</td><td>1999</td><td>20</td></tr>\n",
       "\t<tr><td>Brasil   </td><td>2000</td><td>20</td></tr>\n",
       "\t<tr><td>Argentina</td><td>2000</td><td>30</td></tr>\n",
       "</tbody>\n",
       "</table>\n"
      ],
      "text/latex": [
       "A tibble: 4 × 3\n",
       "\\begin{tabular}{r|lll}\n",
       " Pais & Ano & Valor\\\\\n",
       " <chr> & <chr> & <dbl>\\\\\n",
       "\\hline\n",
       "\t Brasil    & 1999 & 10\\\\\n",
       "\t Argentina & 1999 & 20\\\\\n",
       "\t Brasil    & 2000 & 20\\\\\n",
       "\t Argentina & 2000 & 30\\\\\n",
       "\\end{tabular}\n"
      ],
      "text/markdown": [
       "\n",
       "A tibble: 4 × 3\n",
       "\n",
       "| Pais &lt;chr&gt; | Ano &lt;chr&gt; | Valor &lt;dbl&gt; |\n",
       "|---|---|---|\n",
       "| Brasil    | 1999 | 10 |\n",
       "| Argentina | 1999 | 20 |\n",
       "| Brasil    | 2000 | 20 |\n",
       "| Argentina | 2000 | 30 |\n",
       "\n"
      ],
      "text/plain": [
       "  Pais      Ano  Valor\n",
       "1 Brasil    1999 10   \n",
       "2 Argentina 1999 20   \n",
       "3 Brasil    2000 20   \n",
       "4 Argentina 2000 30   "
      ]
     },
     "metadata": {},
     "output_type": "display_data"
    }
   ],
   "source": [
    "#A ideia do gather é que o nome das colunas são os valores de uma variável\n",
    "#Aqui estamos dizendo o nome das colunas explicitamente\n",
    "\n",
    "taxas %>% gather(Ano, Valor, \"1999\":\"2000\")"
   ]
  },
  {
   "cell_type": "code",
   "execution_count": 32,
   "metadata": {},
   "outputs": [
    {
     "data": {
      "text/html": [
       "<table>\n",
       "<caption>A tibble: 4 × 3</caption>\n",
       "<thead>\n",
       "\t<tr><th scope=col>Pais</th><th scope=col>Ano</th><th scope=col>Valor</th></tr>\n",
       "\t<tr><th scope=col>&lt;chr&gt;</th><th scope=col>&lt;chr&gt;</th><th scope=col>&lt;dbl&gt;</th></tr>\n",
       "</thead>\n",
       "<tbody>\n",
       "\t<tr><td>Brasil   </td><td>1999</td><td>10</td></tr>\n",
       "\t<tr><td>Argentina</td><td>1999</td><td>20</td></tr>\n",
       "\t<tr><td>Brasil   </td><td>2000</td><td>20</td></tr>\n",
       "\t<tr><td>Argentina</td><td>2000</td><td>30</td></tr>\n",
       "</tbody>\n",
       "</table>\n"
      ],
      "text/latex": [
       "A tibble: 4 × 3\n",
       "\\begin{tabular}{r|lll}\n",
       " Pais & Ano & Valor\\\\\n",
       " <chr> & <chr> & <dbl>\\\\\n",
       "\\hline\n",
       "\t Brasil    & 1999 & 10\\\\\n",
       "\t Argentina & 1999 & 20\\\\\n",
       "\t Brasil    & 2000 & 20\\\\\n",
       "\t Argentina & 2000 & 30\\\\\n",
       "\\end{tabular}\n"
      ],
      "text/markdown": [
       "\n",
       "A tibble: 4 × 3\n",
       "\n",
       "| Pais &lt;chr&gt; | Ano &lt;chr&gt; | Valor &lt;dbl&gt; |\n",
       "|---|---|---|\n",
       "| Brasil    | 1999 | 10 |\n",
       "| Argentina | 1999 | 20 |\n",
       "| Brasil    | 2000 | 20 |\n",
       "| Argentina | 2000 | 30 |\n",
       "\n"
      ],
      "text/plain": [
       "  Pais      Ano  Valor\n",
       "1 Brasil    1999 10   \n",
       "2 Argentina 1999 20   \n",
       "3 Brasil    2000 20   \n",
       "4 Argentina 2000 30   "
      ]
     },
     "metadata": {},
     "output_type": "display_data"
    }
   ],
   "source": [
    "#Ou então podemos selecionar todas a colunas MENOS A COLUNA PAÍS\n",
    "taxas %>% gather(Ano, Valor, -Pais)"
   ]
  },
  {
   "cell_type": "code",
   "execution_count": 36,
   "metadata": {},
   "outputs": [
    {
     "data": {
      "text/html": [
       "<table>\n",
       "<caption>A tibble: 4 × 3</caption>\n",
       "<thead>\n",
       "\t<tr><th scope=col>Pais</th><th scope=col>Obs</th><th scope=col>Qtde</th></tr>\n",
       "\t<tr><th scope=col>&lt;chr&gt;</th><th scope=col>&lt;chr&gt;</th><th scope=col>&lt;dbl&gt;</th></tr>\n",
       "</thead>\n",
       "<tbody>\n",
       "\t<tr><td>Brasil   </td><td>Casos    </td><td>1e+01</td></tr>\n",
       "\t<tr><td>Brasil   </td><td>Populacao</td><td>1e+08</td></tr>\n",
       "\t<tr><td>Argentina</td><td>Casos    </td><td>1e+00</td></tr>\n",
       "\t<tr><td>Argentina</td><td>Populacao</td><td>1e+07</td></tr>\n",
       "</tbody>\n",
       "</table>\n"
      ],
      "text/latex": [
       "A tibble: 4 × 3\n",
       "\\begin{tabular}{r|lll}\n",
       " Pais & Obs & Qtde\\\\\n",
       " <chr> & <chr> & <dbl>\\\\\n",
       "\\hline\n",
       "\t Brasil    & Casos     & 1e+01\\\\\n",
       "\t Brasil    & Populacao & 1e+08\\\\\n",
       "\t Argentina & Casos     & 1e+00\\\\\n",
       "\t Argentina & Populacao & 1e+07\\\\\n",
       "\\end{tabular}\n"
      ],
      "text/markdown": [
       "\n",
       "A tibble: 4 × 3\n",
       "\n",
       "| Pais &lt;chr&gt; | Obs &lt;chr&gt; | Qtde &lt;dbl&gt; |\n",
       "|---|---|---|\n",
       "| Brasil    | Casos     | 1e+01 |\n",
       "| Brasil    | Populacao | 1e+08 |\n",
       "| Argentina | Casos     | 1e+00 |\n",
       "| Argentina | Populacao | 1e+07 |\n",
       "\n"
      ],
      "text/plain": [
       "  Pais      Obs       Qtde \n",
       "1 Brasil    Casos     1e+01\n",
       "2 Brasil    Populacao 1e+08\n",
       "3 Argentina Casos     1e+00\n",
       "4 Argentina Populacao 1e+07"
      ]
     },
     "metadata": {},
     "output_type": "display_data"
    }
   ],
   "source": [
    "#Exemplo 4: Spread\n",
    "\n",
    "dat2 = tibble(Pais=c(\"Brasil\", \"Brasil\", \n",
    "                     \"Argentina\", \"Argentina\"),\n",
    "             Obs=c(\"Casos\", \"Populacao\", \"Casos\", \"Populacao\"),\n",
    "             Qtde = c (10, 100000000, 1, 10000000))\n",
    "dat2"
   ]
  },
  {
   "cell_type": "code",
   "execution_count": 37,
   "metadata": {},
   "outputs": [
    {
     "data": {
      "text/html": [
       "<table>\n",
       "<caption>A tibble: 2 × 3</caption>\n",
       "<thead>\n",
       "\t<tr><th scope=col>Pais</th><th scope=col>Casos</th><th scope=col>Populacao</th></tr>\n",
       "\t<tr><th scope=col>&lt;chr&gt;</th><th scope=col>&lt;dbl&gt;</th><th scope=col>&lt;dbl&gt;</th></tr>\n",
       "</thead>\n",
       "<tbody>\n",
       "\t<tr><td>Argentina</td><td> 1</td><td>1e+07</td></tr>\n",
       "\t<tr><td>Brasil   </td><td>10</td><td>1e+08</td></tr>\n",
       "</tbody>\n",
       "</table>\n"
      ],
      "text/latex": [
       "A tibble: 2 × 3\n",
       "\\begin{tabular}{r|lll}\n",
       " Pais & Casos & Populacao\\\\\n",
       " <chr> & <dbl> & <dbl>\\\\\n",
       "\\hline\n",
       "\t Argentina &  1 & 1e+07\\\\\n",
       "\t Brasil    & 10 & 1e+08\\\\\n",
       "\\end{tabular}\n"
      ],
      "text/markdown": [
       "\n",
       "A tibble: 2 × 3\n",
       "\n",
       "| Pais &lt;chr&gt; | Casos &lt;dbl&gt; | Populacao &lt;dbl&gt; |\n",
       "|---|---|---|\n",
       "| Argentina |  1 | 1e+07 |\n",
       "| Brasil    | 10 | 1e+08 |\n",
       "\n"
      ],
      "text/plain": [
       "  Pais      Casos Populacao\n",
       "1 Argentina  1    1e+07    \n",
       "2 Brasil    10    1e+08    "
      ]
     },
     "metadata": {},
     "output_type": "display_data"
    }
   ],
   "source": [
    "#Não está no formato tidy. Para consertá-lo, utilizamos o comando spread!\n",
    "\n",
    "dat2 %>% spread(Obs, Qtde)"
   ]
  }
 ],
 "metadata": {
  "kernelspec": {
   "display_name": "R",
   "language": "R",
   "name": "ir"
  },
  "language_info": {
   "codemirror_mode": "r",
   "file_extension": ".r",
   "mimetype": "text/x-r-source",
   "name": "R",
   "pygments_lexer": "r",
   "version": "3.5.2"
  }
 },
 "nbformat": 4,
 "nbformat_minor": 2
}
